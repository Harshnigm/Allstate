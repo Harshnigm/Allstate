{
 "cells": [
  {
   "cell_type": "code",
   "execution_count": 1,
   "metadata": {},
   "outputs": [],
   "source": [
    "import numpy as np # linear algebra\n",
    "import pandas as pd # data processing, CSV file I/O (e.g. pd.read_csv)\n",
    "import os\n",
    "import gc\n",
    "\n",
    "import matplotlib.pyplot as plt\n",
    "import seaborn as sns\n",
    "%matplotlib inline\n"
   ]
  },
  {
   "cell_type": "code",
   "execution_count": 2,
   "metadata": {},
   "outputs": [],
   "source": [
    "def autolabel(arrayA):\n",
    "    ''' label each colored square with the corresponding data value. \n",
    "    If value > 20, the text is in black, else in white.\n",
    "    '''\n",
    "    arrayA = np.array(arrayA)\n",
    "    for i in range(arrayA.shape[0]):\n",
    "        for j in range(arrayA.shape[1]):\n",
    "                plt.text(j,i, \"%.2f\"%arrayA[i,j], ha='center', va='bottom',color='w')\n",
    "\n",
    "                \n",
    "def gt_matrix(feats,sz=16):\n",
    "    a = []\n",
    "    for i,c1 in enumerate(feats):\n",
    "        b = [] \n",
    "        for j,c2 in enumerate(feats):\n",
    "            mask = (~train[c1].isnull()) & (~train[c2].isnull())\n",
    "            if i>=j:\n",
    "                b.append((train.loc[mask,c1].values>=train.loc[mask,c2].values).mean())\n",
    "            else:\n",
    "                b.append((train.loc[mask,c1].values>train.loc[mask,c2].values).mean())\n",
    "\n",
    "        a.append(b)\n",
    "\n",
    "    plt.figure(figsize = (sz,sz))\n",
    "    plt.imshow(a, interpolation = 'None')\n",
    "    _ = plt.xticks(range(len(feats)),feats,rotation = 90)\n",
    "    _ = plt.yticks(range(len(feats)),feats,rotation = 0)\n",
    "    autolabel(a)\n"
   ]
  },
  {
   "cell_type": "code",
   "execution_count": 3,
   "metadata": {},
   "outputs": [
    {
     "name": "stdout",
     "output_type": "stream",
     "text": [
      "   id cat1 cat2 cat3 cat4 cat5 cat6 cat7 cat8 cat9   ...        cont6  \\\n",
      "0   1    A    B    A    B    A    A    A    A    B   ...     0.718367   \n",
      "1   2    A    B    A    A    A    A    A    A    B   ...     0.438917   \n",
      "2   5    A    B    A    A    B    A    A    A    B   ...     0.289648   \n",
      "3  10    B    B    A    B    A    A    A    A    B   ...     0.440945   \n",
      "4  11    A    B    A    B    A    A    A    A    B   ...     0.178193   \n",
      "\n",
      "      cont7    cont8    cont9   cont10    cont11    cont12    cont13  \\\n",
      "0  0.335060  0.30260  0.67135  0.83510  0.569745  0.594646  0.822493   \n",
      "1  0.436585  0.60087  0.35127  0.43919  0.338312  0.366307  0.611431   \n",
      "2  0.315545  0.27320  0.26076  0.32446  0.381398  0.373424  0.195709   \n",
      "3  0.391128  0.31796  0.32128  0.44467  0.327915  0.321570  0.605077   \n",
      "4  0.247408  0.24564  0.22089  0.21230  0.204687  0.202213  0.246011   \n",
      "\n",
      "     cont14     loss  \n",
      "0  0.714843  2213.18  \n",
      "1  0.304496  1283.60  \n",
      "2  0.774425  3005.09  \n",
      "3  0.602642   939.85  \n",
      "4  0.432606  2763.85  \n",
      "\n",
      "[5 rows x 132 columns]\n",
      "(188318, 132)\n"
     ]
    }
   ],
   "source": [
    "train=pd.read_csv('/home/harsh/Music/train.csv')\n",
    "y=train.loss\n",
    "print(train.head())\n",
    "print(train.shape)"
   ]
  },
  {
   "cell_type": "markdown",
   "metadata": {},
   "source": [
    "So , we have about 132 features, some are categorial and others numeric. We can also see that categorial features start with cat. We have a total of 188318 rows.\n",
    "\n",
    "Now lets check if we have any NaN values."
   ]
  },
  {
   "cell_type": "code",
   "execution_count": 4,
   "metadata": {},
   "outputs": [
    {
     "data": {
      "text/plain": [
       "0    0\n",
       "1    0\n",
       "2    0\n",
       "3    0\n",
       "4    0\n",
       "dtype: int64"
      ]
     },
     "execution_count": 4,
     "metadata": {},
     "output_type": "execute_result"
    }
   ],
   "source": [
    "# Number of NaNs for each object\n",
    "train.isnull().sum(axis=1).head(5)"
   ]
  },
  {
   "cell_type": "markdown",
   "metadata": {},
   "source": [
    "Fortunately , we dont have NaN values in this dataset.\n",
    "\n",
    "Now lets see some basic statistics of the dataset.\n",
    "\n",
    "We observe that , ids are not sequentially assigned to the rows , maybe it can give us some idea as to how tes set and train set was sampled , maybe there is time series present in it? So lets see the distribution of loss over he dataset.\n"
   ]
  },
  {
   "cell_type": "code",
   "execution_count": 5,
   "metadata": {},
   "outputs": [
    {
     "data": {
      "image/png": "[encoded data removed]",
      "text/plain": [
       "<matplotlib.figure.Figure at 0x7f8e6ead2828>"
      ]
     },
     "metadata": {},
     "output_type": "display_data"
    }
   ],
   "source": [
    "plt.plot(y)\n",
    "plt.xlabel('Row ID')\n",
    "plt.ylabel('Target value')\n",
    "plt.title('Change in target value over the dataset')\n",
    "plt.show()"
   ]
  },
  {
   "cell_type": "markdown",
   "metadata": {},
   "source": [
    "It looks random as of now so we can safely assume there is no time series involved."
   ]
  },
  {
   "cell_type": "markdown",
   "metadata": {},
   "source": [
    "Feature Analysis"
   ]
  },
  {
   "cell_type": "code",
   "execution_count": 6,
   "metadata": {},
   "outputs": [
    {
     "data": {
      "text/plain": [
       "object     116\n",
       "float64     15\n",
       "int64        1\n",
       "dtype: int64"
      ]
     },
     "execution_count": 6,
     "metadata": {},
     "output_type": "execute_result"
    }
   ],
   "source": [
    "cols=train.columns.values\n",
    "train[cols].dtypes.value_counts()"
   ]
  },
  {
   "cell_type": "code",
   "execution_count": 7,
   "metadata": {},
   "outputs": [
    {
     "name": "stdout",
     "output_type": "stream",
     "text": [
      "range(0, 132)\n"
     ]
    },
    {
     "data": {
      "text/plain": [
       "<Container object of 132 artists>"
      ]
     },
     "execution_count": 7,
     "metadata": {},
     "output_type": "execute_result"
    },
    {
     "data": {
      "image/png": "[encoded data removed]",
      "text/plain": [
       "<matplotlib.figure.Figure at 0x7f8e6ea54e10>"
      ]
     },
     "metadata": {},
     "output_type": "display_data"
    }
   ],
   "source": [
    "count=[]\n",
    "for c in cols:\n",
    "    count.append(train[c].nunique())\n",
    "count=np.array(count)\n",
    "#print(count)\n",
    "#okay lets plot it now\n",
    "print(range(count.size))\n",
    "plt.bar(range(count.size),count,tick_label=cols)\n",
    "    \n",
    "    "
   ]
  },
  {
   "cell_type": "code",
   "execution_count": 8,
   "metadata": {},
   "outputs": [],
   "source": [
    "#lets store categarial and numeric features in different lists\n",
    "cat_cols = list(train.select_dtypes(include=['object']).columns)\n",
    "num_cols = list(train.select_dtypes(exclude=['object']).columns)"
   ]
  },
  {
   "cell_type": "markdown",
   "metadata": {},
   "source": [
    "Okay now lets build a correlation matrix for the num_cols that is for numerical features.\n",
    "\n",
    "Note- we cannot draw correlation bw numeric and categorial features with the same formula used for numeric features."
   ]
  },
  {
   "cell_type": "code",
   "execution_count": 9,
   "metadata": {},
   "outputs": [
    {
     "data": {
      "text/plain": [
       "<matplotlib.axes._subplots.AxesSubplot at 0x7f8e6ea0cfd0>"
      ]
     },
     "execution_count": 9,
     "metadata": {},
     "output_type": "execute_result"
    },
    {
     "data": {
      "image/png": "[encoded data removed]",
      "text/plain": [
       "<matplotlib.figure.Figure at 0x7f8e6e6645f8>"
      ]
     },
     "metadata": {},
     "output_type": "display_data"
    }
   ],
   "source": [
    "corr = train[num_cols].corr()\n",
    "f, ax = plt.subplots(figsize=(10, 8))\n",
    "sns.heatmap(corr, mask=np.zeros_like(corr, dtype=np.bool), cmap=sns.diverging_palette(220, 10, as_cmap=True),\n",
    "            square=True, ax=ax)\n"
   ]
  },
  {
   "cell_type": "markdown",
   "metadata": {},
   "source": [
    "Interesting, we can observe quite a many correlated pairs like-\n",
    "(cont12,cont11),(cont6,cont1),(cont1,cont9) etc.\n",
    "We will plot a scatter plot bw each of them to observe their relationship , hopefully we will be able to generate new features.\n",
    "\n",
    "But first we will evaluate these features more on a greater than matrix."
   ]
  },
  {
   "cell_type": "code",
   "execution_count": 10,
   "metadata": {},
   "outputs": [
    {
     "data": {
      "image/png": "[encoded data removed]",
      "text/plain": [
       "<matplotlib.figure.Figure at 0x7f8e6ea1e358>"
      ]
     },
     "metadata": {},
     "output_type": "display_data"
    }
   ],
   "source": [
    "gt_matrix(num_cols,16)"
   ]
  },
  {
   "cell_type": "markdown",
   "metadata": {},
   "source": [
    "INteresting,  feaure(count2,count1) seems to be connected , it seems like count2 is cumilative sum of coun11.\n",
    "\n",
    "So lets now draw scatter plot between count12 and count11 to confirm the relationship"
   ]
  },
  {
   "cell_type": "code",
   "execution_count": 11,
   "metadata": {},
   "outputs": [
    {
     "data": {
      "text/plain": [
       "<matplotlib.text.Text at 0x7f8e6e2c6320>"
      ]
     },
     "execution_count": 11,
     "metadata": {},
     "output_type": "execute_result"
    },
    {
     "data": {
      "image/png": "[encoded data removed]",
      "text/plain": [
       "<matplotlib.figure.Figure at 0x7f8e6e4d86d8>"
      ]
     },
     "metadata": {},
     "output_type": "display_data"
    }
   ],
   "source": [
    "plt.scatter(train.cont11, train.cont12,c=\"g\")\n",
    "plt.xlabel(\"cont11\")\n",
    "plt.ylabel(\"cont12\")\n"
   ]
  },
  {
   "cell_type": "markdown",
   "metadata": {},
   "source": [
    "The relationship is clear cnt12>cnt11, we can make a feature (cnt12-cnt11) which will be very useful for a tree based model andd then we can safely remove either of them.\n",
    "\n",
    "lets look at other scatter plots which have hight correlation."
   ]
  },
  {
   "cell_type": "code",
   "execution_count": 12,
   "metadata": {},
   "outputs": [
    {
     "data": {
      "text/plain": [
       "<matplotlib.text.Text at 0x7f8e6e2ab208>"
      ]
     },
     "execution_count": 12,
     "metadata": {},
     "output_type": "execute_result"
    },
    {
     "data": {
      "image/png": "[encoded data removed]",
      "text/plain": [
       "<matplotlib.figure.Figure at 0x7f8e6e294e10>"
      ]
     },
     "metadata": {},
     "output_type": "display_data"
    }
   ],
   "source": [
    "plt.scatter(train.cont9, train.cont1,c=\"g\")\n",
    "plt.xlabel(\"cont9\")\n",
    "plt.ylabel(\"cont1\")"
   ]
  },
  {
   "cell_type": "markdown",
   "metadata": {},
   "source": [
    "The relationship is again linear , we can make features like (x-y) and (y-x) for tree based model.\n",
    "\n",
    "lets build a scatter plot matrix to speed this up."
   ]
  },
  {
   "cell_type": "code",
   "execution_count": 13,
   "metadata": {},
   "outputs": [
    {
     "data": {
      "text/plain": [
       "<matplotlib.text.Text at 0x7f8e6e210908>"
      ]
     },
     "execution_count": 13,
     "metadata": {},
     "output_type": "execute_result"
    },
    {
     "data": {
      "image/png": "[encoded data removed]",
      "text/plain": [
       "<matplotlib.figure.Figure at 0x7f8e6e205898>"
      ]
     },
     "metadata": {},
     "output_type": "display_data"
    }
   ],
   "source": [
    "#sns.set()\n",
    "#sns.pairplot(train[num_cols])\n",
    "plt.scatter(train.cont10, train.cont9,c=\"g\")\n",
    "plt.xlabel(\"cont10\")\n",
    "plt.ylabel(\"cont9\")\n"
   ]
  },
  {
   "cell_type": "markdown",
   "metadata": {},
   "source": [
    "Now lets build a baseline model , we will use this to compare all our futute models."
   ]
  },
  {
   "cell_type": "code",
   "execution_count": 14,
   "metadata": {},
   "outputs": [],
   "source": [
    "import sklearn\n",
    "from sklearn.ensemble import RandomForestRegressor"
   ]
  },
  {
   "cell_type": "code",
   "execution_count": 15,
   "metadata": {},
   "outputs": [
    {
     "data": {
      "text/plain": [
       "RandomForestRegressor(bootstrap=True, criterion='mse', max_depth=None,\n",
       "           max_features='auto', max_leaf_nodes=None,\n",
       "           min_impurity_decrease=0.0, min_impurity_split=None,\n",
       "           min_samples_leaf=1, min_samples_split=2,\n",
       "           min_weight_fraction_leaf=0.0, n_estimators=10, n_jobs=1,\n",
       "           oob_score=False, random_state=None, verbose=0, warm_start=False)"
      ]
     },
     "execution_count": 15,
     "metadata": {},
     "output_type": "execute_result"
    }
   ],
   "source": [
    "\n",
    "\n",
    "# Save and drop labels\n",
    "X = train.copy()\n",
    "y = train.loss\n",
    "X = X.drop('loss', axis=1)\n",
    "\n",
    "# fill NANs \n",
    "X = X.fillna(-999)\n",
    "\n",
    "# Label encoder\n",
    "for c in train.columns[train.dtypes == 'object']:\n",
    "    X[c] = X[c].factorize()[0]\n",
    "    \n",
    "rf = RandomForestRegressor()\n",
    "rf.fit(X,y)"
   ]
  },
  {
   "cell_type": "code",
   "execution_count": 16,
   "metadata": {},
   "outputs": [
    {
     "data": {
      "image/png": "[encoded data removed]",
      "text/plain": [
       "<matplotlib.figure.Figure at 0x7f8e5c1788d0>"
      ]
     },
     "metadata": {},
     "output_type": "display_data"
    }
   ],
   "source": [
    "f, ax = plt.subplots(figsize=(30, 20))\n",
    "plt.plot(rf.feature_importances_)\n",
    "plt.xticks(np.arange(X.shape[1]), X.columns.tolist(), rotation=90);"
   ]
  },
  {
   "cell_type": "code",
   "execution_count": 17,
   "metadata": {},
   "outputs": [],
   "source": [
    " del X"
   ]
  },
  {
   "cell_type": "markdown",
   "metadata": {},
   "source": [
    "According to the randomforest , cat80 is the most important feature , lets see how many levels are present in this feature"
   ]
  },
  {
   "cell_type": "code",
   "execution_count": null,
   "metadata": {},
   "outputs": [],
   "source": []
  },
  {
   "cell_type": "code",
   "execution_count": null,
   "metadata": {},
   "outputs": [],
   "source": []
  },
  {
   "cell_type": "markdown",
   "metadata": {},
   "source": [
    "Feature Engineering"
   ]
  },
  {
   "cell_type": "code",
   "execution_count": 18,
   "metadata": {},
   "outputs": [
    {
     "name": "stdout",
     "output_type": "stream",
     "text": [
      "['cat105', 'cat107', 'cat109', 'cat110', 'cat112', 'cat113', 'cat115', 'cat116']\n"
     ]
    }
   ],
   "source": [
    "#lets seperate categorial features into two part , one to be label encoded and other to be mean encoded\n",
    "\n",
    "\n",
    "\n",
    "\n",
    "label_enc_cols=[]\n",
    "mean_enc_cols=[]\n",
    "for i in cat_cols:\n",
    "    if train[i].nunique()>=20:\n",
    "        mean_enc_cols.append(i)\n",
    "    else:\n",
    "        label_enc_cols.append(i)\n",
    "        \n",
    "print(mean_enc_cols)\n",
    "\n",
    "#label encode the features in label_enc_cols\n",
    "for c in label_enc_cols:\n",
    "    train[c] = train[c].factorize()[0]\n",
    "     "
   ]
  },
  {
   "cell_type": "markdown",
   "metadata": {},
   "source": [
    "Okay now time to split our dataframe into train set and validation set."
   ]
  },
  {
   "cell_type": "code",
   "execution_count": 19,
   "metadata": {},
   "outputs": [
    {
     "name": "stderr",
     "output_type": "stream",
     "text": [
      "/usr/local/lib/python3.5/dist-packages/ipykernel_launcher.py:10: SettingWithCopyWarning: \n",
      "A value is trying to be set on a copy of a slice from a DataFrame.\n",
      "Try using .loc[row_indexer,col_indexer] = value instead\n",
      "\n",
      "See the caveats in the documentation: http://pandas.pydata.org/pandas-docs/stable/indexing.html#indexing-view-versus-copy\n",
      "  # Remove the CWD from sys.path while we load stuff.\n"
     ]
    }
   ],
   "source": [
    "#mean encode the features in mean_enc_cols\n",
    "from sklearn.model_selection import KFold\n",
    "kf = KFold(n_splits=5,shuffle=False)\n",
    "X=train.loss.values\n",
    "kf.get_n_splits(X)\n",
    "for train_index, val_index in kf.split(X):\n",
    "    train_data, val_data=train.iloc[train_index],train.iloc[val_index]\n",
    "    for col in mean_enc_cols:\n",
    "        means=val_data[col].map(train_data.groupby(col).loss.mean())\n",
    "        val_data[col]=means\n",
    "    train.iloc[val_index]=val_data\n",
    "    \n",
    "#all_data.fillna(0.3343, inplace=True) \n",
    "#encoded_feature = all_data['item_target_enc'].values\n",
    "\n"
   ]
  },
  {
   "cell_type": "code",
   "execution_count": 20,
   "metadata": {},
   "outputs": [
    {
     "name": "stdout",
     "output_type": "stream",
     "text": [
      "0    2918.07\n",
      "1    3124.25\n",
      "2    2693.96\n",
      "3    2917.32\n",
      "4     3031.1\n",
      "Name: cat116, dtype: object\n"
     ]
    }
   ],
   "source": [
    "print(train.cat116.head())"
   ]
  },
  {
   "cell_type": "code",
   "execution_count": 21,
   "metadata": {},
   "outputs": [
    {
     "name": "stdout",
     "output_type": "stream",
     "text": [
      "            id  cat1  cat2  cat3  cat4  cat5  cat6  cat7  cat8  cat9  \\\n",
      "74790   233824     0     1     0     1     0     1     0     0     1   \n",
      "22054    69520     0     0     0     1     1     0     0     0     0   \n",
      "25894    81359     0     1     0     0     0     1     0     0     1   \n",
      "3604     11498     1     1     0     1     0     1     0     0     1   \n",
      "178001  555461     0     0     0     1     0     0     0     0     0   \n",
      "\n",
      "          ...        cont7    cont8    cont9   cont10    cont11    cont12  \\\n",
      "74790     ...     0.447174  0.60087  0.35127  0.43919  0.374064  0.366307   \n",
      "22054     ...     0.474881  0.68308  0.79047  0.60932  0.625936  0.612906   \n",
      "25894     ...     0.590329  0.49462  0.45391  0.56627  0.625936  0.612906   \n",
      "3604      ...     0.664223  0.26847  0.41471  0.47779  0.711942  0.698722   \n",
      "178001    ...     0.574825  0.54829  0.38249  0.45017  0.607500  0.630853   \n",
      "\n",
      "          cont13    cont14      diff     diff2  \n",
      "74790   0.611431  0.254988  0.007757 -0.020756  \n",
      "22054   0.723122  0.765010  0.013030 -0.059583  \n",
      "25894   0.689974  0.289668  0.013030  0.018982  \n",
      "3604    0.304350  0.347694  0.013220  0.062521  \n",
      "178001  0.666708  0.242690 -0.023353  0.001206  \n",
      "\n",
      "[5 rows x 133 columns]\n",
      "(150654, 133)\n"
     ]
    }
   ],
   "source": [
    "from sklearn.model_selection import train_test_split\n",
    "train['diff']=train.cont11-train.cont12\n",
    "train['diff2']=train.cont1-train.cont9\n",
    "X_train, X_val, y_train, y_val = train_test_split(train, train.loss, test_size=0.2, random_state=0)\n",
    "X_train = X_train.drop('loss', axis=1)\n",
    "X_val = X_val.drop('loss', axis=1)\n",
    "print(X_val.head())\n",
    "print(X_train.shape)"
   ]
  },
  {
   "cell_type": "code",
   "execution_count": 22,
   "metadata": {},
   "outputs": [],
   "source": [
    "X_train.fillna(0,inplace=True) \n",
    "X_val.fillna(0,inplace=True) \n",
    "#X_train.cat109"
   ]
  },
  {
   "cell_type": "code",
   "execution_count": 23,
   "metadata": {},
   "outputs": [],
   "source": [
    "#lets build GBDT\n",
    "import lightgbm as lgb\n",
    "\n",
    "#downcast_dtypes(X_train)\n",
    "lgb_params = {\n",
    "               'feature_fraction': 0.75,\n",
    "               'metric': 'rmse',\n",
    "               'nthread':1, \n",
    "               'min_data_in_leaf': 2**9, \n",
    "               'bagging_fraction': 0.75, \n",
    "               'learning_rate': 0.06, \n",
    "               'objective': 'mse', \n",
    "               'bagging_seed': 2**7, \n",
    "               'num_leaves': 2**9,\n",
    "               'bagging_freq':1,\n",
    "               'verbose':0 \n",
    "              }\n",
    "\n",
    "model = lgb.train(lgb_params, lgb.Dataset(X_train, label=y_train), 100)\n",
    "\n",
    "\n",
    "\n"
   ]
  },
  {
   "cell_type": "code",
   "execution_count": 24,
   "metadata": {},
   "outputs": [],
   "source": [
    "pred_lgb_train = model.predict(X_train)\n",
    "pred_lgb_val = model.predict(X_val)"
   ]
  },
  {
   "cell_type": "code",
   "execution_count": 25,
   "metadata": {},
   "outputs": [
    {
     "name": "stdout",
     "output_type": "stream",
     "text": [
      "0.529180137332\n",
      "1220.68217467\n"
     ]
    }
   ],
   "source": [
    "print(sklearn.metrics.r2_score(y_val,pred_lgb_val))\n",
    "print(sklearn.metrics.mean_absolute_error(y_val,pred_lgb_val))"
   ]
  },
  {
   "cell_type": "code",
   "execution_count": 26,
   "metadata": {},
   "outputs": [
    {
     "name": "stdout",
     "output_type": "stream",
     "text": [
      "0.561468520236\n",
      "1174.39971478\n"
     ]
    }
   ],
   "source": [
    "print(sklearn.metrics.r2_score(y_train,pred_lgb_train))\n",
    "print(sklearn.metrics.mean_absolute_error(y_train,pred_lgb_train))"
   ]
  },
  {
   "cell_type": "markdown",
   "metadata": {},
   "source": [
    "okay now lets work on a linear model , we will use one hot encoding as it is beneficial for linear models."
   ]
  },
  {
   "cell_type": "code",
   "execution_count": 27,
   "metadata": {},
   "outputs": [
    {
     "name": "stdout",
     "output_type": "stream",
     "text": [
      "   id  cat1  cat2  cat3  cat4  cat5  cat6  cat7  cat8  cat9    ...     \\\n",
      "0   1     0     0     0     0     0     0     0     0     0    ...      \n",
      "1   2     0     0     0     1     0     0     0     0     0    ...      \n",
      "2   5     0     0     0     1     1     0     0     0     0    ...      \n",
      "3  10     1     0     0     0     0     0     0     0     0    ...      \n",
      "4  11     0     0     0     0     0     0     0     0     0    ...      \n",
      "\n",
      "      cont7    cont8    cont9   cont10    cont11    cont12    cont13  \\\n",
      "0  0.335060  0.30260  0.67135  0.83510  0.569745  0.594646  0.822493   \n",
      "1  0.436585  0.60087  0.35127  0.43919  0.338312  0.366307  0.611431   \n",
      "2  0.315545  0.27320  0.26076  0.32446  0.381398  0.373424  0.195709   \n",
      "3  0.391128  0.31796  0.32128  0.44467  0.327915  0.321570  0.605077   \n",
      "4  0.247408  0.24564  0.22089  0.21230  0.204687  0.202213  0.246011   \n",
      "\n",
      "     cont14      diff     diff2  \n",
      "0  0.714843 -0.024901  0.054950  \n",
      "1  0.304496 -0.027995 -0.020756  \n",
      "2  0.774425  0.007974  0.001081  \n",
      "3  0.602642  0.006345  0.000314  \n",
      "4  0.432606  0.002474  0.052314  \n",
      "\n",
      "[5 rows x 133 columns]\n"
     ]
    }
   ],
   "source": [
    "from sklearn.preprocessing import LabelEncoder\n",
    "from sklearn.preprocessing import OneHotEncoder\n",
    "y=train.loss\n",
    "train=train.drop('loss', axis=1)\n",
    "print(train.head())"
   ]
  },
  {
   "cell_type": "code",
   "execution_count": 28,
   "metadata": {},
   "outputs": [
    {
     "name": "stdout",
     "output_type": "stream",
     "text": [
      "(188318, 360)\n",
      "(188318, 388)\n"
     ]
    }
   ],
   "source": [
    "#Variable to hold the list of variables for an attribute in the train and test data\n",
    "#train=pd.read_csv('/home/harsh/Music/train.csv')\n",
    "\n",
    "labels = []\n",
    "split=105\n",
    "\n",
    "cats = []\n",
    "for i in range(1, split):\n",
    "    #Label encode\n",
    "    label_encoder = LabelEncoder()\n",
    "    v = list(train[cols[i]].unique())\n",
    "    label_encoder.fit(v)\n",
    "    feature = label_encoder.transform(train.iloc[:,i])\n",
    "    feature = feature.reshape(train.shape[0], 1)\n",
    "    #One hot encode\n",
    "    onehot_encoder = OneHotEncoder(sparse=False,n_values=len(v))\n",
    "    feature = onehot_encoder.fit_transform(feature)\n",
    "    cats.append(feature)\n",
    "\n",
    "# Make a 2D array from a list of 1D arrays\n",
    "encoded_cats = np.column_stack(cats)\n",
    "\n",
    "# Print the shape of the encoded data\n",
    "print(encoded_cats.shape)\n",
    "\n",
    "#Concatenate encoded attributes with continuous attributes\n",
    "dataset_encoded = np.concatenate((encoded_cats,train.iloc[:,split:].values),axis=1)\n",
    "print(dataset_encoded.shape)\n",
    "del cats\n",
    "del feature\n",
    "del encoded_cats"
   ]
  },
  {
   "cell_type": "code",
   "execution_count": 29,
   "metadata": {},
   "outputs": [],
   "source": [
    "df2 = pd.DataFrame(dataset_encoded)\n"
   ]
  },
  {
   "cell_type": "code",
   "execution_count": 30,
   "metadata": {},
   "outputs": [
    {
     "name": "stderr",
     "output_type": "stream",
     "text": [
      "/usr/lib/python3/dist-packages/pandas/core/frame.py:2705: SettingWithCopyWarning: \n",
      "A value is trying to be set on a copy of a slice from a DataFrame\n",
      "\n",
      "See the caveats in the documentation: http://pandas.pydata.org/pandas-docs/stable/indexing.html#indexing-view-versus-copy\n",
      "  **kwargs)\n"
     ]
    }
   ],
   "source": [
    "\n",
    "X_train, X_val, y_train, y_val = train_test_split(df2, y, test_size=0.2, random_state=0)\n",
    "X_train.fillna(0,inplace=True) \n",
    "X_val.fillna(0,inplace=True) \n"
   ]
  },
  {
   "cell_type": "code",
   "execution_count": 35,
   "metadata": {},
   "outputs": [
    {
     "name": "stderr",
     "output_type": "stream",
     "text": [
      "/usr/lib/python3/dist-packages/pandas/core/frame.py:2705: SettingWithCopyWarning: \n",
      "A value is trying to be set on a copy of a slice from a DataFrame\n",
      "\n",
      "See the caveats in the documentation: http://pandas.pydata.org/pandas-docs/stable/indexing.html#indexing-view-versus-copy\n",
      "  **kwargs)\n"
     ]
    },
    {
     "data": {
      "text/plain": [
       "float64    384\n",
       "int64        4\n",
       "dtype: int64"
      ]
     },
     "execution_count": 35,
     "metadata": {},
     "output_type": "execute_result"
    }
   ],
   "source": [
    "X_train.fillna(0,inplace=True) \n",
    "cols=X_train.columns.values\n",
    "X_train[cols].dtypes.value_counts()"
   ]
  },
  {
   "cell_type": "code",
   "execution_count": 36,
   "metadata": {},
   "outputs": [
    {
     "name": "stderr",
     "output_type": "stream",
     "text": [
      "/usr/lib/python3/dist-packages/pandas/core/frame.py:2705: SettingWithCopyWarning: \n",
      "A value is trying to be set on a copy of a slice from a DataFrame\n",
      "\n",
      "See the caveats in the documentation: http://pandas.pydata.org/pandas-docs/stable/indexing.html#indexing-view-versus-copy\n",
      "  **kwargs)\n"
     ]
    }
   ],
   "source": [
    "X_val.fillna(0,inplace=True) "
   ]
  },
  {
   "cell_type": "code",
   "execution_count": 38,
   "metadata": {},
   "outputs": [],
   "source": [
    "from sklearn.linear_model import LinearRegression\n",
    "lr = LinearRegression()\n",
    "lr.fit(X_train.values, y_train)\n",
    "pred_lr = lr.predict(X_val.values)"
   ]
  },
  {
   "cell_type": "code",
   "execution_count": 39,
   "metadata": {},
   "outputs": [
    {
     "name": "stdout",
     "output_type": "stream",
     "text": [
      "0.484925210186\n",
      "1319.03573404\n"
     ]
    }
   ],
   "source": [
    "print(sklearn.metrics.r2_score(y_val,pred_lr))\n",
    "print(sklearn.metrics.mean_absolute_error(y_val,pred_lr))"
   ]
  },
  {
   "cell_type": "code",
   "execution_count": 40,
   "metadata": {},
   "outputs": [
    {
     "data": {
      "text/plain": [
       "<matplotlib.text.Text at 0x7f8e5c10b5c0>"
      ]
     },
     "execution_count": 40,
     "metadata": {},
     "output_type": "execute_result"
    },
    {
     "data": {
      "image/png": "[encoded data removed]",
      "text/plain": [
       "<matplotlib.figure.Figure at 0x7f8e6ea3d4a8>"
      ]
     },
     "metadata": {},
     "output_type": "display_data"
    }
   ],
   "source": [
    "plt.scatter(pred_lgb_val,pred_lr,c=\"g\")\n",
    "plt.xlabel(\"cont10\")\n",
    "plt.ylabel(\"cont9\")"
   ]
  },
  {
   "cell_type": "markdown",
   "metadata": {},
   "source": [
    "quite interesting , models are not very consistent , maybe LR is capturing some data that boosting is not , we will make use of esemble."
   ]
  },
  {
   "cell_type": "code",
   "execution_count": null,
   "metadata": {},
   "outputs": [],
   "source": [
    "xgb.cv(data = dtrain,\n",
    "                        nthread = 8,\n",
    "                        nfold = 4,\n",
    "                        #nrounds = 2, # quick test\n",
    "                        nrounds = 1000000,\n",
    "                        max_depth = 6,\n",
    "                        eta = 0.0404096, # Santander overfitting magic number X2\n",
    "                        subsample = 0.70,\n",
    "                        colsample_bytree = 0.70,\n",
    "                        booster = \"gbtree\",\n",
    "                        eval_metric = \"mae\",\n",
    "                        maximize = FALSE,\n",
    "                        early_stopping_rounds = 25,\n",
    "                        objective = \"reg:linear\",\n",
    "                        print_every_n = 10,\n",
    "                        verbose = TRUE)"
   ]
  },
  {
   "cell_type": "code",
   "execution_count": 43,
   "metadata": {},
   "outputs": [],
   "source": [
    "import xgboost as xgb\n",
    "dtrain = xgb.DMatrix(X_train, label=y_train)\n",
    "dval = xgb.DMatrix(X_val,label=y_val)"
   ]
  },
  {
   "cell_type": "code",
   "execution_count": 53,
   "metadata": {},
   "outputs": [
    {
     "name": "stdout",
     "output_type": "stream",
     "text": [
      "[0]\ttrain-mae:2913.82\teval-mae:2918.07\n",
      "Multiple eval metrics have been passed: 'eval-mae' will be used for early stopping.\n",
      "\n",
      "Will train until eval-mae hasn't improved in 25 rounds.\n",
      "[1]\ttrain-mae:2796.41\teval-mae:2800.84\n",
      "[2]\ttrain-mae:2684.5\teval-mae:2689.07\n",
      "[3]\ttrain-mae:2577.75\teval-mae:2582.44\n",
      "[4]\ttrain-mae:2476.45\teval-mae:2481.33\n",
      "[5]\ttrain-mae:2380.59\teval-mae:2385.66\n",
      "[6]\ttrain-mae:2290.5\teval-mae:2295.94\n",
      "[7]\ttrain-mae:2206.08\teval-mae:2211.68\n",
      "[8]\ttrain-mae:2127.21\teval-mae:2133.01\n",
      "[9]\ttrain-mae:2053.7\teval-mae:2059.92\n",
      "[10]\ttrain-mae:1986.03\teval-mae:1992.48\n",
      "[11]\ttrain-mae:1923.25\teval-mae:1929.88\n",
      "[12]\ttrain-mae:1865.42\teval-mae:1872.12\n",
      "[13]\ttrain-mae:1812.17\teval-mae:1818.88\n",
      "[14]\ttrain-mae:1763.99\teval-mae:1770.58\n",
      "[15]\ttrain-mae:1719.03\teval-mae:1725.52\n",
      "[16]\ttrain-mae:1677.74\teval-mae:1684.37\n",
      "[17]\ttrain-mae:1639.74\teval-mae:1646.68\n",
      "[18]\ttrain-mae:1604.34\teval-mae:1611.53\n",
      "[19]\ttrain-mae:1572.41\teval-mae:1580.04\n",
      "[20]\ttrain-mae:1543.49\teval-mae:1551.56\n",
      "[21]\ttrain-mae:1517\teval-mae:1525.5\n",
      "[22]\ttrain-mae:1493.25\teval-mae:1502.19\n",
      "[23]\ttrain-mae:1471.47\teval-mae:1480.99\n",
      "[24]\ttrain-mae:1451.21\teval-mae:1460.88\n",
      "[25]\ttrain-mae:1433.58\teval-mae:1443.71\n",
      "[26]\ttrain-mae:1416.83\teval-mae:1427.17\n",
      "[27]\ttrain-mae:1401.94\teval-mae:1412.57\n",
      "[28]\ttrain-mae:1388.35\teval-mae:1399.47\n",
      "[29]\ttrain-mae:1375.95\teval-mae:1387.53\n",
      "[30]\ttrain-mae:1364.47\teval-mae:1376.55\n",
      "[31]\ttrain-mae:1354.1\teval-mae:1366.64\n",
      "[32]\ttrain-mae:1344.51\teval-mae:1357.56\n",
      "[33]\ttrain-mae:1336.02\teval-mae:1349.23\n",
      "[34]\ttrain-mae:1328.24\teval-mae:1341.76\n",
      "[35]\ttrain-mae:1321.08\teval-mae:1334.91\n",
      "[36]\ttrain-mae:1314.48\teval-mae:1328.78\n",
      "[37]\ttrain-mae:1308.54\teval-mae:1323.12\n",
      "[38]\ttrain-mae:1302.96\teval-mae:1318.06\n",
      "[39]\ttrain-mae:1298.39\teval-mae:1313.62\n",
      "[40]\ttrain-mae:1294.25\teval-mae:1309.7\n",
      "[41]\ttrain-mae:1290.21\teval-mae:1306\n",
      "[42]\ttrain-mae:1286.34\teval-mae:1302.42\n",
      "[43]\ttrain-mae:1282.74\teval-mae:1299.19\n",
      "[44]\ttrain-mae:1279.64\teval-mae:1296.5\n",
      "[45]\ttrain-mae:1276.25\teval-mae:1293.34\n",
      "[46]\ttrain-mae:1273.72\teval-mae:1290.91\n",
      "[47]\ttrain-mae:1271.73\teval-mae:1289.12\n",
      "[48]\ttrain-mae:1268.86\teval-mae:1286.53\n",
      "[49]\ttrain-mae:1266.61\teval-mae:1284.65\n",
      "[50]\ttrain-mae:1264.5\teval-mae:1282.94\n",
      "[51]\ttrain-mae:1262.63\teval-mae:1281.34\n",
      "[52]\ttrain-mae:1261.24\teval-mae:1280.14\n",
      "[53]\ttrain-mae:1259.71\teval-mae:1278.99\n",
      "[54]\ttrain-mae:1258.33\teval-mae:1277.96\n",
      "[55]\ttrain-mae:1256.99\teval-mae:1276.78\n",
      "[56]\ttrain-mae:1255.84\teval-mae:1275.91\n",
      "[57]\ttrain-mae:1254.93\teval-mae:1275.18\n",
      "[58]\ttrain-mae:1253.14\teval-mae:1273.74\n",
      "[59]\ttrain-mae:1251.41\teval-mae:1272.33\n",
      "[60]\ttrain-mae:1250.4\teval-mae:1271.61\n",
      "[61]\ttrain-mae:1248.66\teval-mae:1270.05\n",
      "[62]\ttrain-mae:1246.94\teval-mae:1268.61\n",
      "[63]\ttrain-mae:1245.83\teval-mae:1267.98\n",
      "[64]\ttrain-mae:1245.12\teval-mae:1267.53\n",
      "[65]\ttrain-mae:1243.68\teval-mae:1266.47\n",
      "[66]\ttrain-mae:1242.57\teval-mae:1265.66\n",
      "[67]\ttrain-mae:1241.6\teval-mae:1265.09\n",
      "[68]\ttrain-mae:1240.74\teval-mae:1264.43\n",
      "[69]\ttrain-mae:1239.74\teval-mae:1263.66\n",
      "[70]\ttrain-mae:1239.43\teval-mae:1263.48\n",
      "[71]\ttrain-mae:1238.32\teval-mae:1262.62\n",
      "[72]\ttrain-mae:1237.18\teval-mae:1261.63\n",
      "[73]\ttrain-mae:1236.68\teval-mae:1261.41\n",
      "[74]\ttrain-mae:1236.42\teval-mae:1261.31\n",
      "[75]\ttrain-mae:1235.55\teval-mae:1260.78\n",
      "[76]\ttrain-mae:1234.68\teval-mae:1260.2\n",
      "[77]\ttrain-mae:1234.07\teval-mae:1259.89\n",
      "[78]\ttrain-mae:1233.11\teval-mae:1259.34\n",
      "[79]\ttrain-mae:1232.05\teval-mae:1258.51\n",
      "[80]\ttrain-mae:1231.05\teval-mae:1257.79\n",
      "[81]\ttrain-mae:1230.49\teval-mae:1257.47\n",
      "[82]\ttrain-mae:1229.3\teval-mae:1256.53\n",
      "[83]\ttrain-mae:1228.39\teval-mae:1255.81\n",
      "[84]\ttrain-mae:1227.76\teval-mae:1255.33\n",
      "[85]\ttrain-mae:1227.06\teval-mae:1254.75\n",
      "[86]\ttrain-mae:1226.36\teval-mae:1254.42\n",
      "[87]\ttrain-mae:1225.55\teval-mae:1253.79\n",
      "[88]\ttrain-mae:1224.76\teval-mae:1253.16\n",
      "[89]\ttrain-mae:1224.25\teval-mae:1252.96\n",
      "[90]\ttrain-mae:1223.6\teval-mae:1252.62\n",
      "[91]\ttrain-mae:1222.7\teval-mae:1251.88\n",
      "[92]\ttrain-mae:1222.06\teval-mae:1251.47\n",
      "[93]\ttrain-mae:1220.8\teval-mae:1250.45\n",
      "[94]\ttrain-mae:1220.04\teval-mae:1250.03\n",
      "[95]\ttrain-mae:1219.28\teval-mae:1249.52\n",
      "[96]\ttrain-mae:1218.42\teval-mae:1248.8\n",
      "[97]\ttrain-mae:1217.48\teval-mae:1248.08\n",
      "[98]\ttrain-mae:1216.46\teval-mae:1247.27\n",
      "[99]\ttrain-mae:1215.91\teval-mae:1246.91\n",
      "[100]\ttrain-mae:1214.94\teval-mae:1246.19\n",
      "[101]\ttrain-mae:1214.26\teval-mae:1245.68\n",
      "[102]\ttrain-mae:1213.38\teval-mae:1245.06\n",
      "[103]\ttrain-mae:1212.65\teval-mae:1244.58\n",
      "[104]\ttrain-mae:1211.76\teval-mae:1243.97\n",
      "[105]\ttrain-mae:1211.2\teval-mae:1243.65\n",
      "[106]\ttrain-mae:1210.38\teval-mae:1242.96\n",
      "[107]\ttrain-mae:1209.85\teval-mae:1242.54\n",
      "[108]\ttrain-mae:1209.15\teval-mae:1241.99\n",
      "[109]\ttrain-mae:1208.23\teval-mae:1241.24\n",
      "[110]\ttrain-mae:1207.73\teval-mae:1240.8\n",
      "[111]\ttrain-mae:1206.92\teval-mae:1240.15\n",
      "[112]\ttrain-mae:1206.03\teval-mae:1239.53\n",
      "[113]\ttrain-mae:1205.5\teval-mae:1239.1\n",
      "[114]\ttrain-mae:1204.96\teval-mae:1238.71\n",
      "[115]\ttrain-mae:1203.97\teval-mae:1237.83\n",
      "[116]\ttrain-mae:1203.19\teval-mae:1237.25\n",
      "[117]\ttrain-mae:1202.31\teval-mae:1236.53\n",
      "[118]\ttrain-mae:1201.6\teval-mae:1236\n",
      "[119]\ttrain-mae:1200.87\teval-mae:1235.48\n",
      "[120]\ttrain-mae:1200.23\teval-mae:1235.08\n",
      "[121]\ttrain-mae:1199.57\teval-mae:1234.64\n",
      "[122]\ttrain-mae:1198.91\teval-mae:1234.11\n",
      "[123]\ttrain-mae:1198.04\teval-mae:1233.34\n",
      "[124]\ttrain-mae:1197.26\teval-mae:1232.78\n",
      "[125]\ttrain-mae:1196.62\teval-mae:1232.29\n",
      "[126]\ttrain-mae:1195.85\teval-mae:1231.66\n",
      "[127]\ttrain-mae:1195.27\teval-mae:1231.28\n",
      "[128]\ttrain-mae:1194.68\teval-mae:1230.87\n",
      "[129]\ttrain-mae:1193.86\teval-mae:1230.2\n",
      "[130]\ttrain-mae:1193.11\teval-mae:1229.65\n",
      "[131]\ttrain-mae:1192.52\teval-mae:1229.32\n",
      "[132]\ttrain-mae:1191.91\teval-mae:1228.83\n",
      "[133]\ttrain-mae:1191.24\teval-mae:1228.34\n",
      "[134]\ttrain-mae:1190.77\teval-mae:1228.11\n",
      "[135]\ttrain-mae:1190.2\teval-mae:1227.67\n",
      "[136]\ttrain-mae:1189.66\teval-mae:1227.22\n",
      "[137]\ttrain-mae:1189.12\teval-mae:1226.82\n",
      "[138]\ttrain-mae:1188.72\teval-mae:1226.53\n",
      "[139]\ttrain-mae:1188.09\teval-mae:1226.02\n",
      "[140]\ttrain-mae:1187.53\teval-mae:1225.64\n",
      "[141]\ttrain-mae:1186.91\teval-mae:1225.09\n",
      "[142]\ttrain-mae:1186.47\teval-mae:1224.89\n",
      "[143]\ttrain-mae:1185.83\teval-mae:1224.5\n",
      "[144]\ttrain-mae:1185.47\teval-mae:1224.32\n",
      "[145]\ttrain-mae:1184.83\teval-mae:1223.89\n",
      "[146]\ttrain-mae:1184.33\teval-mae:1223.51\n",
      "[147]\ttrain-mae:1183.88\teval-mae:1223.09\n",
      "[148]\ttrain-mae:1183.41\teval-mae:1222.79\n",
      "[149]\ttrain-mae:1182.82\teval-mae:1222.46\n",
      "[150]\ttrain-mae:1182.23\teval-mae:1221.95\n",
      "[151]\ttrain-mae:1181.76\teval-mae:1221.62\n",
      "[152]\ttrain-mae:1181.3\teval-mae:1221.29\n",
      "[153]\ttrain-mae:1180.89\teval-mae:1221.05\n",
      "[154]\ttrain-mae:1180.45\teval-mae:1220.73\n",
      "[155]\ttrain-mae:1179.87\teval-mae:1220.3\n",
      "[156]\ttrain-mae:1179.37\teval-mae:1219.92\n",
      "[157]\ttrain-mae:1178.86\teval-mae:1219.58\n",
      "[158]\ttrain-mae:1178.4\teval-mae:1219.21\n",
      "[159]\ttrain-mae:1178.04\teval-mae:1219.04\n",
      "[160]\ttrain-mae:1177.68\teval-mae:1218.86\n",
      "[161]\ttrain-mae:1177.28\teval-mae:1218.62\n",
      "[162]\ttrain-mae:1176.79\teval-mae:1218.21\n",
      "[163]\ttrain-mae:1176.52\teval-mae:1218.01\n",
      "[164]\ttrain-mae:1175.99\teval-mae:1217.75\n",
      "[165]\ttrain-mae:1175.43\teval-mae:1217.35\n",
      "[166]\ttrain-mae:1175.03\teval-mae:1217.09\n",
      "[167]\ttrain-mae:1174.73\teval-mae:1216.92\n",
      "[168]\ttrain-mae:1174.42\teval-mae:1216.71\n",
      "[169]\ttrain-mae:1174.01\teval-mae:1216.54\n",
      "[170]\ttrain-mae:1173.72\teval-mae:1216.37\n",
      "[171]\ttrain-mae:1173.21\teval-mae:1215.96\n",
      "[172]\ttrain-mae:1172.76\teval-mae:1215.67\n",
      "[173]\ttrain-mae:1172.36\teval-mae:1215.35\n",
      "[174]\ttrain-mae:1172.01\teval-mae:1215.14\n",
      "[175]\ttrain-mae:1171.46\teval-mae:1214.74\n",
      "[176]\ttrain-mae:1171.13\teval-mae:1214.53\n",
      "[177]\ttrain-mae:1170.74\teval-mae:1214.27\n",
      "[178]\ttrain-mae:1170.44\teval-mae:1214.12\n",
      "[179]\ttrain-mae:1169.92\teval-mae:1213.75\n",
      "[180]\ttrain-mae:1169.63\teval-mae:1213.61\n",
      "[181]\ttrain-mae:1169.34\teval-mae:1213.44\n",
      "[182]\ttrain-mae:1169.05\teval-mae:1213.33\n",
      "[183]\ttrain-mae:1168.57\teval-mae:1212.99\n",
      "[184]\ttrain-mae:1168.29\teval-mae:1212.8\n",
      "[185]\ttrain-mae:1167.99\teval-mae:1212.58\n",
      "[186]\ttrain-mae:1167.53\teval-mae:1212.29\n",
      "[187]\ttrain-mae:1167.2\teval-mae:1212.16\n",
      "[188]\ttrain-mae:1166.86\teval-mae:1211.98\n",
      "[189]\ttrain-mae:1166.53\teval-mae:1211.75\n",
      "[190]\ttrain-mae:1166.2\teval-mae:1211.6\n",
      "[191]\ttrain-mae:1165.79\teval-mae:1211.25\n",
      "[192]\ttrain-mae:1165.32\teval-mae:1210.92\n",
      "[193]\ttrain-mae:1164.87\teval-mae:1210.63\n",
      "[194]\ttrain-mae:1164.54\teval-mae:1210.45\n",
      "[195]\ttrain-mae:1164.19\teval-mae:1210.22\n",
      "[196]\ttrain-mae:1163.82\teval-mae:1210.04\n",
      "[197]\ttrain-mae:1163.48\teval-mae:1209.83\n",
      "[198]\ttrain-mae:1163.21\teval-mae:1209.71\n",
      "[199]\ttrain-mae:1162.88\teval-mae:1209.51\n",
      "[200]\ttrain-mae:1162.65\teval-mae:1209.35\n"
     ]
    },
    {
     "name": "stdout",
     "output_type": "stream",
     "text": [
      "[201]\ttrain-mae:1162.35\teval-mae:1209.27\n",
      "[202]\ttrain-mae:1161.99\teval-mae:1209.1\n",
      "[203]\ttrain-mae:1161.64\teval-mae:1208.9\n",
      "[204]\ttrain-mae:1161.39\teval-mae:1208.77\n",
      "[205]\ttrain-mae:1161.02\teval-mae:1208.6\n",
      "[206]\ttrain-mae:1160.65\teval-mae:1208.39\n",
      "[207]\ttrain-mae:1160.34\teval-mae:1208.2\n",
      "[208]\ttrain-mae:1160.02\teval-mae:1208.05\n",
      "[209]\ttrain-mae:1159.67\teval-mae:1207.87\n",
      "[210]\ttrain-mae:1159.37\teval-mae:1207.68\n",
      "[211]\ttrain-mae:1159.19\teval-mae:1207.57\n",
      "[212]\ttrain-mae:1159\teval-mae:1207.49\n",
      "[213]\ttrain-mae:1158.66\teval-mae:1207.29\n",
      "[214]\ttrain-mae:1158.41\teval-mae:1207.16\n",
      "[215]\ttrain-mae:1158.23\teval-mae:1207.09\n",
      "[216]\ttrain-mae:1157.87\teval-mae:1206.92\n",
      "[217]\ttrain-mae:1157.62\teval-mae:1206.81\n",
      "[218]\ttrain-mae:1157.32\teval-mae:1206.54\n",
      "[219]\ttrain-mae:1157.09\teval-mae:1206.47\n",
      "[220]\ttrain-mae:1156.8\teval-mae:1206.38\n",
      "[221]\ttrain-mae:1156.54\teval-mae:1206.21\n",
      "[222]\ttrain-mae:1156.41\teval-mae:1206.15\n",
      "[223]\ttrain-mae:1156.18\teval-mae:1206.03\n",
      "[224]\ttrain-mae:1155.96\teval-mae:1205.89\n",
      "[225]\ttrain-mae:1155.66\teval-mae:1205.72\n",
      "[226]\ttrain-mae:1155.19\teval-mae:1205.47\n",
      "[227]\ttrain-mae:1154.96\teval-mae:1205.34\n",
      "[228]\ttrain-mae:1154.67\teval-mae:1205.2\n",
      "[229]\ttrain-mae:1154.49\teval-mae:1205.23\n",
      "[230]\ttrain-mae:1154.32\teval-mae:1205.12\n",
      "[231]\ttrain-mae:1154.1\teval-mae:1204.98\n",
      "[232]\ttrain-mae:1153.84\teval-mae:1204.84\n",
      "[233]\ttrain-mae:1153.47\teval-mae:1204.64\n",
      "[234]\ttrain-mae:1153.26\teval-mae:1204.54\n",
      "[235]\ttrain-mae:1153.1\teval-mae:1204.53\n",
      "[236]\ttrain-mae:1152.87\teval-mae:1204.45\n",
      "[237]\ttrain-mae:1152.43\teval-mae:1204.21\n",
      "[238]\ttrain-mae:1152.17\teval-mae:1204.16\n",
      "[239]\ttrain-mae:1151.94\teval-mae:1204.11\n",
      "[240]\ttrain-mae:1151.78\teval-mae:1204.08\n",
      "[241]\ttrain-mae:1151.5\teval-mae:1203.91\n",
      "[242]\ttrain-mae:1151.28\teval-mae:1203.79\n",
      "[243]\ttrain-mae:1151.05\teval-mae:1203.66\n",
      "[244]\ttrain-mae:1150.74\teval-mae:1203.52\n",
      "[245]\ttrain-mae:1150.47\teval-mae:1203.35\n",
      "[246]\ttrain-mae:1150.23\teval-mae:1203.19\n",
      "[247]\ttrain-mae:1149.97\teval-mae:1203.08\n",
      "[248]\ttrain-mae:1149.77\teval-mae:1203.04\n",
      "[249]\ttrain-mae:1149.61\teval-mae:1202.92\n",
      "[250]\ttrain-mae:1149.44\teval-mae:1202.83\n",
      "[251]\ttrain-mae:1149.19\teval-mae:1202.74\n",
      "[252]\ttrain-mae:1148.98\teval-mae:1202.67\n",
      "[253]\ttrain-mae:1148.77\teval-mae:1202.57\n",
      "[254]\ttrain-mae:1148.54\teval-mae:1202.49\n",
      "[255]\ttrain-mae:1148.36\teval-mae:1202.35\n",
      "[256]\ttrain-mae:1148.19\teval-mae:1202.26\n",
      "[257]\ttrain-mae:1147.98\teval-mae:1202.15\n",
      "[258]\ttrain-mae:1147.67\teval-mae:1201.93\n",
      "[259]\ttrain-mae:1147.51\teval-mae:1201.85\n",
      "[260]\ttrain-mae:1147.24\teval-mae:1201.69\n",
      "[261]\ttrain-mae:1147.01\teval-mae:1201.56\n",
      "[262]\ttrain-mae:1146.79\teval-mae:1201.44\n",
      "[263]\ttrain-mae:1146.59\teval-mae:1201.37\n",
      "[264]\ttrain-mae:1146.44\teval-mae:1201.31\n",
      "[265]\ttrain-mae:1146.28\teval-mae:1201.25\n",
      "[266]\ttrain-mae:1146.18\teval-mae:1201.22\n",
      "[267]\ttrain-mae:1146.06\teval-mae:1201.13\n",
      "[268]\ttrain-mae:1145.95\teval-mae:1201.08\n",
      "[269]\ttrain-mae:1145.72\teval-mae:1200.94\n",
      "[270]\ttrain-mae:1145.48\teval-mae:1200.82\n",
      "[271]\ttrain-mae:1145.28\teval-mae:1200.73\n",
      "[272]\ttrain-mae:1145.08\teval-mae:1200.65\n",
      "[273]\ttrain-mae:1144.88\teval-mae:1200.57\n",
      "[274]\ttrain-mae:1144.68\teval-mae:1200.47\n",
      "[275]\ttrain-mae:1144.51\teval-mae:1200.35\n",
      "[276]\ttrain-mae:1144.33\teval-mae:1200.25\n",
      "[277]\ttrain-mae:1144.13\teval-mae:1200.16\n",
      "[278]\ttrain-mae:1143.8\teval-mae:1199.97\n",
      "[279]\ttrain-mae:1143.66\teval-mae:1199.91\n",
      "[280]\ttrain-mae:1143.57\teval-mae:1199.89\n",
      "[281]\ttrain-mae:1143.44\teval-mae:1199.86\n",
      "[282]\ttrain-mae:1143.26\teval-mae:1199.79\n",
      "[283]\ttrain-mae:1143.03\teval-mae:1199.67\n",
      "[284]\ttrain-mae:1142.76\teval-mae:1199.54\n",
      "[285]\ttrain-mae:1142.63\teval-mae:1199.52\n",
      "[286]\ttrain-mae:1142.43\teval-mae:1199.41\n",
      "[287]\ttrain-mae:1142.31\teval-mae:1199.33\n",
      "[288]\ttrain-mae:1142.09\teval-mae:1199.21\n",
      "[289]\ttrain-mae:1141.93\teval-mae:1199.2\n",
      "[290]\ttrain-mae:1141.76\teval-mae:1199.07\n",
      "[291]\ttrain-mae:1141.66\teval-mae:1199.03\n",
      "[292]\ttrain-mae:1141.57\teval-mae:1198.99\n",
      "[293]\ttrain-mae:1141.47\teval-mae:1198.96\n",
      "[294]\ttrain-mae:1141.35\teval-mae:1198.96\n",
      "[295]\ttrain-mae:1141.18\teval-mae:1198.93\n",
      "[296]\ttrain-mae:1140.98\teval-mae:1198.84\n",
      "[297]\ttrain-mae:1140.8\teval-mae:1198.8\n",
      "[298]\ttrain-mae:1140.65\teval-mae:1198.73\n",
      "[299]\ttrain-mae:1140.53\teval-mae:1198.64\n",
      "[300]\ttrain-mae:1140.39\teval-mae:1198.56\n",
      "[301]\ttrain-mae:1140.18\teval-mae:1198.45\n",
      "[302]\ttrain-mae:1140.04\teval-mae:1198.4\n",
      "[303]\ttrain-mae:1139.86\teval-mae:1198.32\n",
      "[304]\ttrain-mae:1139.71\teval-mae:1198.23\n",
      "[305]\ttrain-mae:1139.48\teval-mae:1198.16\n",
      "[306]\ttrain-mae:1139.33\teval-mae:1198.09\n",
      "[307]\ttrain-mae:1139.2\teval-mae:1198.07\n",
      "[308]\ttrain-mae:1138.89\teval-mae:1197.91\n",
      "[309]\ttrain-mae:1138.69\teval-mae:1197.78\n",
      "[310]\ttrain-mae:1138.64\teval-mae:1197.76\n",
      "[311]\ttrain-mae:1138.48\teval-mae:1197.62\n",
      "[312]\ttrain-mae:1138.33\teval-mae:1197.61\n",
      "[313]\ttrain-mae:1138.14\teval-mae:1197.54\n",
      "[314]\ttrain-mae:1137.96\teval-mae:1197.46\n",
      "[315]\ttrain-mae:1137.71\teval-mae:1197.4\n",
      "[316]\ttrain-mae:1137.64\teval-mae:1197.38\n",
      "[317]\ttrain-mae:1137.52\teval-mae:1197.29\n",
      "[318]\ttrain-mae:1137.24\teval-mae:1197.15\n",
      "[319]\ttrain-mae:1137.07\teval-mae:1197.08\n",
      "[320]\ttrain-mae:1136.89\teval-mae:1197.01\n",
      "[321]\ttrain-mae:1136.7\teval-mae:1196.95\n",
      "[322]\ttrain-mae:1136.41\teval-mae:1196.88\n",
      "[323]\ttrain-mae:1136.34\teval-mae:1196.84\n",
      "[324]\ttrain-mae:1136.24\teval-mae:1196.86\n",
      "[325]\ttrain-mae:1136.03\teval-mae:1196.74\n",
      "[326]\ttrain-mae:1135.88\teval-mae:1196.69\n",
      "[327]\ttrain-mae:1135.74\teval-mae:1196.65\n",
      "[328]\ttrain-mae:1135.52\teval-mae:1196.57\n",
      "[329]\ttrain-mae:1135.38\teval-mae:1196.5\n",
      "[330]\ttrain-mae:1135.2\teval-mae:1196.4\n",
      "[331]\ttrain-mae:1135.05\teval-mae:1196.44\n",
      "[332]\ttrain-mae:1134.95\teval-mae:1196.45\n",
      "[333]\ttrain-mae:1134.73\teval-mae:1196.32\n",
      "[334]\ttrain-mae:1134.66\teval-mae:1196.29\n",
      "[335]\ttrain-mae:1134.5\teval-mae:1196.24\n",
      "[336]\ttrain-mae:1134.31\teval-mae:1196.18\n",
      "[337]\ttrain-mae:1134.25\teval-mae:1196.19\n",
      "[338]\ttrain-mae:1134.02\teval-mae:1196.15\n",
      "[339]\ttrain-mae:1133.79\teval-mae:1196.06\n",
      "[340]\ttrain-mae:1133.61\teval-mae:1196.01\n",
      "[341]\ttrain-mae:1133.49\teval-mae:1195.98\n",
      "[342]\ttrain-mae:1133.41\teval-mae:1195.96\n",
      "[343]\ttrain-mae:1133.31\teval-mae:1195.94\n",
      "[344]\ttrain-mae:1133.13\teval-mae:1195.82\n",
      "[345]\ttrain-mae:1132.97\teval-mae:1195.78\n",
      "[346]\ttrain-mae:1132.88\teval-mae:1195.73\n",
      "[347]\ttrain-mae:1132.69\teval-mae:1195.67\n",
      "[348]\ttrain-mae:1132.58\teval-mae:1195.64\n",
      "[349]\ttrain-mae:1132.28\teval-mae:1195.57\n",
      "[350]\ttrain-mae:1132.05\teval-mae:1195.46\n",
      "[351]\ttrain-mae:1131.87\teval-mae:1195.36\n",
      "[352]\ttrain-mae:1131.68\teval-mae:1195.29\n",
      "[353]\ttrain-mae:1131.53\teval-mae:1195.29\n",
      "[354]\ttrain-mae:1131.4\teval-mae:1195.21\n",
      "[355]\ttrain-mae:1131.28\teval-mae:1195.18\n",
      "[356]\ttrain-mae:1131.09\teval-mae:1195.06\n",
      "[357]\ttrain-mae:1130.95\teval-mae:1194.99\n",
      "[358]\ttrain-mae:1130.75\teval-mae:1194.89\n",
      "[359]\ttrain-mae:1130.54\teval-mae:1194.93\n",
      "[360]\ttrain-mae:1130.37\teval-mae:1194.92\n",
      "[361]\ttrain-mae:1130.18\teval-mae:1194.87\n",
      "[362]\ttrain-mae:1130\teval-mae:1194.78\n",
      "[363]\ttrain-mae:1129.79\teval-mae:1194.67\n",
      "[364]\ttrain-mae:1129.62\teval-mae:1194.56\n",
      "[365]\ttrain-mae:1129.46\teval-mae:1194.51\n",
      "[366]\ttrain-mae:1129.28\teval-mae:1194.43\n",
      "[367]\ttrain-mae:1129.16\teval-mae:1194.38\n",
      "[368]\ttrain-mae:1128.96\teval-mae:1194.32\n",
      "[369]\ttrain-mae:1128.73\teval-mae:1194.21\n",
      "[370]\ttrain-mae:1128.53\teval-mae:1194.17\n",
      "[371]\ttrain-mae:1128.32\teval-mae:1194.08\n",
      "[372]\ttrain-mae:1128.14\teval-mae:1194.06\n",
      "[373]\ttrain-mae:1127.96\teval-mae:1194.01\n",
      "[374]\ttrain-mae:1127.84\teval-mae:1194\n",
      "[375]\ttrain-mae:1127.73\teval-mae:1193.96\n",
      "[376]\ttrain-mae:1127.55\teval-mae:1193.88\n",
      "[377]\ttrain-mae:1127.19\teval-mae:1193.74\n",
      "[378]\ttrain-mae:1127.03\teval-mae:1193.64\n",
      "[379]\ttrain-mae:1126.83\teval-mae:1193.62\n",
      "[380]\ttrain-mae:1126.64\teval-mae:1193.53\n",
      "[381]\ttrain-mae:1126.53\teval-mae:1193.5\n",
      "[382]\ttrain-mae:1126.23\teval-mae:1193.43\n",
      "[383]\ttrain-mae:1126.09\teval-mae:1193.35\n",
      "[384]\ttrain-mae:1125.95\teval-mae:1193.29\n",
      "[385]\ttrain-mae:1125.77\teval-mae:1193.26\n",
      "[386]\ttrain-mae:1125.61\teval-mae:1193.19\n",
      "[387]\ttrain-mae:1125.5\teval-mae:1193.19\n",
      "[388]\ttrain-mae:1125.35\teval-mae:1193.16\n",
      "[389]\ttrain-mae:1125.17\teval-mae:1193.1\n",
      "[390]\ttrain-mae:1125.01\teval-mae:1192.98\n",
      "[391]\ttrain-mae:1124.94\teval-mae:1192.99\n",
      "[392]\ttrain-mae:1124.81\teval-mae:1193.03\n",
      "[393]\ttrain-mae:1124.63\teval-mae:1192.95\n",
      "[394]\ttrain-mae:1124.43\teval-mae:1192.86\n",
      "[395]\ttrain-mae:1124.31\teval-mae:1192.78\n",
      "[396]\ttrain-mae:1124.13\teval-mae:1192.73\n",
      "[397]\ttrain-mae:1123.85\teval-mae:1192.57\n",
      "[398]\ttrain-mae:1123.76\teval-mae:1192.56\n",
      "[399]\ttrain-mae:1123.61\teval-mae:1192.55\n",
      "[400]\ttrain-mae:1123.49\teval-mae:1192.49\n",
      "[401]\ttrain-mae:1123.29\teval-mae:1192.44\n"
     ]
    },
    {
     "name": "stdout",
     "output_type": "stream",
     "text": [
      "[402]\ttrain-mae:1123.16\teval-mae:1192.42\n",
      "[403]\ttrain-mae:1123.07\teval-mae:1192.4\n",
      "[404]\ttrain-mae:1122.94\teval-mae:1192.39\n",
      "[405]\ttrain-mae:1122.75\teval-mae:1192.45\n",
      "[406]\ttrain-mae:1122.6\teval-mae:1192.35\n",
      "[407]\ttrain-mae:1122.48\teval-mae:1192.32\n",
      "[408]\ttrain-mae:1122.34\teval-mae:1192.31\n",
      "[409]\ttrain-mae:1122.18\teval-mae:1192.3\n",
      "[410]\ttrain-mae:1122.1\teval-mae:1192.32\n",
      "[411]\ttrain-mae:1122.06\teval-mae:1192.32\n",
      "[412]\ttrain-mae:1121.93\teval-mae:1192.29\n",
      "[413]\ttrain-mae:1121.68\teval-mae:1192.18\n",
      "[414]\ttrain-mae:1121.57\teval-mae:1192.2\n",
      "[415]\ttrain-mae:1121.44\teval-mae:1192.12\n",
      "[416]\ttrain-mae:1121.25\teval-mae:1192.07\n",
      "[417]\ttrain-mae:1121.15\teval-mae:1192.05\n",
      "[418]\ttrain-mae:1121.01\teval-mae:1192.05\n",
      "[419]\ttrain-mae:1120.9\teval-mae:1191.97\n",
      "[420]\ttrain-mae:1120.58\teval-mae:1191.9\n",
      "[421]\ttrain-mae:1120.49\teval-mae:1191.92\n",
      "[422]\ttrain-mae:1120.37\teval-mae:1191.91\n",
      "[423]\ttrain-mae:1120.22\teval-mae:1191.89\n",
      "[424]\ttrain-mae:1120.02\teval-mae:1191.88\n",
      "[425]\ttrain-mae:1119.82\teval-mae:1191.87\n",
      "[426]\ttrain-mae:1119.53\teval-mae:1191.78\n",
      "[427]\ttrain-mae:1119.27\teval-mae:1191.69\n",
      "[428]\ttrain-mae:1119.22\teval-mae:1191.67\n",
      "[429]\ttrain-mae:1119.12\teval-mae:1191.63\n",
      "[430]\ttrain-mae:1119.03\teval-mae:1191.66\n",
      "[431]\ttrain-mae:1118.86\teval-mae:1191.59\n",
      "[432]\ttrain-mae:1118.76\teval-mae:1191.55\n",
      "[433]\ttrain-mae:1118.53\teval-mae:1191.44\n",
      "[434]\ttrain-mae:1118.47\teval-mae:1191.41\n",
      "[435]\ttrain-mae:1118.4\teval-mae:1191.41\n",
      "[436]\ttrain-mae:1118.26\teval-mae:1191.38\n",
      "[437]\ttrain-mae:1118.12\teval-mae:1191.33\n",
      "[438]\ttrain-mae:1118.06\teval-mae:1191.3\n",
      "[439]\ttrain-mae:1117.92\teval-mae:1191.31\n",
      "[440]\ttrain-mae:1117.77\teval-mae:1191.29\n",
      "[441]\ttrain-mae:1117.59\teval-mae:1191.24\n",
      "[442]\ttrain-mae:1117.42\teval-mae:1191.15\n",
      "[443]\ttrain-mae:1117.32\teval-mae:1191.15\n",
      "[444]\ttrain-mae:1117.09\teval-mae:1191.14\n",
      "[445]\ttrain-mae:1116.91\teval-mae:1191.02\n",
      "[446]\ttrain-mae:1116.85\teval-mae:1191.01\n",
      "[447]\ttrain-mae:1116.72\teval-mae:1190.96\n",
      "[448]\ttrain-mae:1116.63\teval-mae:1190.93\n",
      "[449]\ttrain-mae:1116.49\teval-mae:1190.87\n",
      "[450]\ttrain-mae:1116.32\teval-mae:1190.86\n",
      "[451]\ttrain-mae:1116.23\teval-mae:1190.88\n",
      "[452]\ttrain-mae:1116.11\teval-mae:1190.85\n",
      "[453]\ttrain-mae:1115.93\teval-mae:1190.8\n",
      "[454]\ttrain-mae:1115.79\teval-mae:1190.76\n",
      "[455]\ttrain-mae:1115.67\teval-mae:1190.73\n",
      "[456]\ttrain-mae:1115.53\teval-mae:1190.69\n",
      "[457]\ttrain-mae:1115.38\teval-mae:1190.68\n",
      "[458]\ttrain-mae:1115.27\teval-mae:1190.71\n",
      "[459]\ttrain-mae:1115.15\teval-mae:1190.69\n",
      "[460]\ttrain-mae:1114.97\teval-mae:1190.62\n",
      "[461]\ttrain-mae:1114.83\teval-mae:1190.58\n",
      "[462]\ttrain-mae:1114.66\teval-mae:1190.49\n",
      "[463]\ttrain-mae:1114.55\teval-mae:1190.45\n",
      "[464]\ttrain-mae:1114.37\teval-mae:1190.42\n",
      "[465]\ttrain-mae:1114.31\teval-mae:1190.41\n",
      "[466]\ttrain-mae:1114.15\teval-mae:1190.37\n",
      "[467]\ttrain-mae:1114.04\teval-mae:1190.4\n",
      "[468]\ttrain-mae:1113.97\teval-mae:1190.41\n",
      "[469]\ttrain-mae:1113.81\teval-mae:1190.37\n",
      "[470]\ttrain-mae:1113.64\teval-mae:1190.3\n",
      "[471]\ttrain-mae:1113.54\teval-mae:1190.34\n",
      "[472]\ttrain-mae:1113.42\teval-mae:1190.33\n",
      "[473]\ttrain-mae:1113.32\teval-mae:1190.33\n",
      "[474]\ttrain-mae:1113.22\teval-mae:1190.3\n",
      "[475]\ttrain-mae:1113.12\teval-mae:1190.27\n",
      "[476]\ttrain-mae:1113.03\teval-mae:1190.2\n",
      "[477]\ttrain-mae:1112.9\teval-mae:1190.26\n",
      "[478]\ttrain-mae:1112.78\teval-mae:1190.16\n",
      "[479]\ttrain-mae:1112.57\teval-mae:1190.09\n",
      "[480]\ttrain-mae:1112.45\teval-mae:1190.07\n",
      "[481]\ttrain-mae:1112.37\teval-mae:1190.07\n",
      "[482]\ttrain-mae:1112.26\teval-mae:1190.02\n",
      "[483]\ttrain-mae:1112.13\teval-mae:1189.98\n",
      "[484]\ttrain-mae:1111.93\teval-mae:1189.89\n",
      "[485]\ttrain-mae:1111.79\teval-mae:1189.9\n",
      "[486]\ttrain-mae:1111.7\teval-mae:1189.86\n",
      "[487]\ttrain-mae:1111.49\teval-mae:1189.81\n",
      "[488]\ttrain-mae:1111.33\teval-mae:1189.78\n",
      "[489]\ttrain-mae:1111.15\teval-mae:1189.75\n",
      "[490]\ttrain-mae:1110.96\teval-mae:1189.67\n",
      "[491]\ttrain-mae:1110.92\teval-mae:1189.69\n",
      "[492]\ttrain-mae:1110.8\teval-mae:1189.67\n",
      "[493]\ttrain-mae:1110.64\teval-mae:1189.66\n",
      "[494]\ttrain-mae:1110.51\teval-mae:1189.61\n",
      "[495]\ttrain-mae:1110.42\teval-mae:1189.57\n",
      "[496]\ttrain-mae:1110.26\teval-mae:1189.51\n",
      "[497]\ttrain-mae:1110.16\teval-mae:1189.5\n",
      "[498]\ttrain-mae:1110.07\teval-mae:1189.48\n",
      "[499]\ttrain-mae:1109.86\teval-mae:1189.42\n",
      "[500]\ttrain-mae:1109.67\teval-mae:1189.38\n",
      "[501]\ttrain-mae:1109.59\teval-mae:1189.42\n",
      "[502]\ttrain-mae:1109.48\teval-mae:1189.4\n",
      "[503]\ttrain-mae:1109.38\teval-mae:1189.35\n",
      "[504]\ttrain-mae:1109.31\teval-mae:1189.31\n",
      "[505]\ttrain-mae:1109.09\teval-mae:1189.24\n",
      "[506]\ttrain-mae:1108.9\teval-mae:1189.2\n",
      "[507]\ttrain-mae:1108.81\teval-mae:1189.18\n",
      "[508]\ttrain-mae:1108.69\teval-mae:1189.14\n",
      "[509]\ttrain-mae:1108.54\teval-mae:1189.15\n",
      "[510]\ttrain-mae:1108.39\teval-mae:1189.14\n",
      "[511]\ttrain-mae:1108.25\teval-mae:1189.08\n",
      "[512]\ttrain-mae:1108.21\teval-mae:1189.15\n",
      "[513]\ttrain-mae:1108.06\teval-mae:1189.15\n",
      "[514]\ttrain-mae:1107.86\teval-mae:1189.06\n",
      "[515]\ttrain-mae:1107.73\teval-mae:1189.02\n",
      "[516]\ttrain-mae:1107.67\teval-mae:1189.03\n",
      "[517]\ttrain-mae:1107.57\teval-mae:1189\n",
      "[518]\ttrain-mae:1107.49\teval-mae:1189\n",
      "[519]\ttrain-mae:1107.37\teval-mae:1189.02\n",
      "[520]\ttrain-mae:1107.26\teval-mae:1188.98\n",
      "[521]\ttrain-mae:1107.01\teval-mae:1188.9\n",
      "[522]\ttrain-mae:1106.94\teval-mae:1188.93\n",
      "[523]\ttrain-mae:1106.83\teval-mae:1188.93\n",
      "[524]\ttrain-mae:1106.72\teval-mae:1188.91\n",
      "[525]\ttrain-mae:1106.61\teval-mae:1188.88\n",
      "[526]\ttrain-mae:1106.5\teval-mae:1188.92\n",
      "[527]\ttrain-mae:1106.29\teval-mae:1188.88\n",
      "[528]\ttrain-mae:1106.24\teval-mae:1188.87\n",
      "[529]\ttrain-mae:1106.11\teval-mae:1188.86\n",
      "[530]\ttrain-mae:1105.94\teval-mae:1188.8\n",
      "[531]\ttrain-mae:1105.83\teval-mae:1188.76\n",
      "[532]\ttrain-mae:1105.78\teval-mae:1188.77\n",
      "[533]\ttrain-mae:1105.64\teval-mae:1188.75\n",
      "[534]\ttrain-mae:1105.51\teval-mae:1188.69\n",
      "[535]\ttrain-mae:1105.33\teval-mae:1188.66\n",
      "[536]\ttrain-mae:1105.18\teval-mae:1188.65\n",
      "[537]\ttrain-mae:1105.08\teval-mae:1188.64\n",
      "[538]\ttrain-mae:1104.98\teval-mae:1188.66\n",
      "[539]\ttrain-mae:1104.85\teval-mae:1188.65\n",
      "[540]\ttrain-mae:1104.74\teval-mae:1188.61\n",
      "[541]\ttrain-mae:1104.57\teval-mae:1188.55\n",
      "[542]\ttrain-mae:1104.5\teval-mae:1188.52\n",
      "[543]\ttrain-mae:1104.36\teval-mae:1188.46\n",
      "[544]\ttrain-mae:1104.27\teval-mae:1188.43\n",
      "[545]\ttrain-mae:1104.11\teval-mae:1188.44\n",
      "[546]\ttrain-mae:1103.99\teval-mae:1188.48\n",
      "[547]\ttrain-mae:1103.82\teval-mae:1188.46\n",
      "[548]\ttrain-mae:1103.71\teval-mae:1188.49\n",
      "[549]\ttrain-mae:1103.55\teval-mae:1188.42\n",
      "[550]\ttrain-mae:1103.37\teval-mae:1188.36\n",
      "[551]\ttrain-mae:1103.26\teval-mae:1188.35\n",
      "[552]\ttrain-mae:1103.16\teval-mae:1188.31\n",
      "[553]\ttrain-mae:1103.05\teval-mae:1188.3\n",
      "[554]\ttrain-mae:1102.87\teval-mae:1188.33\n",
      "[555]\ttrain-mae:1102.81\teval-mae:1188.36\n",
      "[556]\ttrain-mae:1102.66\teval-mae:1188.35\n",
      "[557]\ttrain-mae:1102.54\teval-mae:1188.32\n",
      "[558]\ttrain-mae:1102.42\teval-mae:1188.3\n",
      "[559]\ttrain-mae:1102.35\teval-mae:1188.28\n",
      "[560]\ttrain-mae:1102.31\teval-mae:1188.27\n",
      "[561]\ttrain-mae:1102.19\teval-mae:1188.22\n",
      "[562]\ttrain-mae:1102.12\teval-mae:1188.25\n",
      "[563]\ttrain-mae:1102.04\teval-mae:1188.31\n",
      "[564]\ttrain-mae:1101.84\teval-mae:1188.25\n",
      "[565]\ttrain-mae:1101.69\teval-mae:1188.22\n",
      "[566]\ttrain-mae:1101.62\teval-mae:1188.22\n",
      "[567]\ttrain-mae:1101.54\teval-mae:1188.22\n",
      "[568]\ttrain-mae:1101.43\teval-mae:1188.2\n",
      "[569]\ttrain-mae:1101.42\teval-mae:1188.21\n",
      "[570]\ttrain-mae:1101.28\teval-mae:1188.23\n",
      "[571]\ttrain-mae:1101.09\teval-mae:1188.17\n",
      "[572]\ttrain-mae:1101.03\teval-mae:1188.13\n",
      "[573]\ttrain-mae:1100.85\teval-mae:1188.08\n",
      "[574]\ttrain-mae:1100.67\teval-mae:1188.04\n",
      "[575]\ttrain-mae:1100.62\teval-mae:1188.09\n",
      "[576]\ttrain-mae:1100.46\teval-mae:1188.08\n",
      "[577]\ttrain-mae:1100.32\teval-mae:1188.13\n",
      "[578]\ttrain-mae:1100.19\teval-mae:1188.12\n",
      "[579]\ttrain-mae:1100.17\teval-mae:1188.15\n",
      "[580]\ttrain-mae:1100.11\teval-mae:1188.16\n",
      "[581]\ttrain-mae:1099.92\teval-mae:1188.12\n",
      "[582]\ttrain-mae:1099.78\teval-mae:1188.04\n",
      "[583]\ttrain-mae:1099.66\teval-mae:1188\n",
      "[584]\ttrain-mae:1099.51\teval-mae:1187.93\n",
      "[585]\ttrain-mae:1099.42\teval-mae:1187.88\n",
      "[586]\ttrain-mae:1099.24\teval-mae:1187.87\n",
      "[587]\ttrain-mae:1099.17\teval-mae:1187.86\n",
      "[588]\ttrain-mae:1098.98\teval-mae:1187.79\n",
      "[589]\ttrain-mae:1098.83\teval-mae:1187.78\n",
      "[590]\ttrain-mae:1098.74\teval-mae:1187.78\n",
      "[591]\ttrain-mae:1098.58\teval-mae:1187.76\n",
      "[592]\ttrain-mae:1098.52\teval-mae:1187.76\n",
      "[593]\ttrain-mae:1098.43\teval-mae:1187.76\n",
      "[594]\ttrain-mae:1098.31\teval-mae:1187.79\n",
      "[595]\ttrain-mae:1098.15\teval-mae:1187.74\n",
      "[596]\ttrain-mae:1098.08\teval-mae:1187.76\n",
      "[597]\ttrain-mae:1098\teval-mae:1187.74\n",
      "[598]\ttrain-mae:1097.81\teval-mae:1187.65\n",
      "[599]\ttrain-mae:1097.69\teval-mae:1187.63\n",
      "[600]\ttrain-mae:1097.64\teval-mae:1187.6\n",
      "[601]\ttrain-mae:1097.52\teval-mae:1187.56\n",
      "[602]\ttrain-mae:1097.38\teval-mae:1187.55\n"
     ]
    },
    {
     "name": "stdout",
     "output_type": "stream",
     "text": [
      "[603]\ttrain-mae:1097.24\teval-mae:1187.53\n",
      "[604]\ttrain-mae:1097.12\teval-mae:1187.53\n",
      "[605]\ttrain-mae:1096.98\teval-mae:1187.59\n",
      "[606]\ttrain-mae:1096.8\teval-mae:1187.57\n",
      "[607]\ttrain-mae:1096.7\teval-mae:1187.57\n",
      "[608]\ttrain-mae:1096.6\teval-mae:1187.58\n",
      "[609]\ttrain-mae:1096.43\teval-mae:1187.53\n",
      "[610]\ttrain-mae:1096.33\teval-mae:1187.53\n",
      "[611]\ttrain-mae:1096.19\teval-mae:1187.49\n",
      "[612]\ttrain-mae:1096.13\teval-mae:1187.54\n",
      "[613]\ttrain-mae:1096.07\teval-mae:1187.52\n",
      "[614]\ttrain-mae:1095.94\teval-mae:1187.57\n",
      "[615]\ttrain-mae:1095.83\teval-mae:1187.59\n",
      "[616]\ttrain-mae:1095.71\teval-mae:1187.65\n",
      "[617]\ttrain-mae:1095.55\teval-mae:1187.64\n",
      "[618]\ttrain-mae:1095.41\teval-mae:1187.62\n",
      "[619]\ttrain-mae:1095.31\teval-mae:1187.61\n",
      "[620]\ttrain-mae:1095.17\teval-mae:1187.62\n",
      "[621]\ttrain-mae:1095.06\teval-mae:1187.57\n",
      "[622]\ttrain-mae:1094.92\teval-mae:1187.6\n",
      "[623]\ttrain-mae:1094.78\teval-mae:1187.56\n",
      "[624]\ttrain-mae:1094.71\teval-mae:1187.54\n",
      "[625]\ttrain-mae:1094.54\teval-mae:1187.51\n",
      "[626]\ttrain-mae:1094.42\teval-mae:1187.47\n",
      "[627]\ttrain-mae:1094.25\teval-mae:1187.44\n",
      "[628]\ttrain-mae:1094.13\teval-mae:1187.44\n",
      "[629]\ttrain-mae:1094.03\teval-mae:1187.41\n",
      "[630]\ttrain-mae:1093.89\teval-mae:1187.37\n",
      "[631]\ttrain-mae:1093.79\teval-mae:1187.34\n",
      "[632]\ttrain-mae:1093.64\teval-mae:1187.27\n",
      "[633]\ttrain-mae:1093.59\teval-mae:1187.29\n",
      "[634]\ttrain-mae:1093.42\teval-mae:1187.24\n",
      "[635]\ttrain-mae:1093.34\teval-mae:1187.25\n",
      "[636]\ttrain-mae:1093.25\teval-mae:1187.25\n",
      "[637]\ttrain-mae:1093.16\teval-mae:1187.26\n",
      "[638]\ttrain-mae:1092.99\teval-mae:1187.26\n",
      "[639]\ttrain-mae:1092.83\teval-mae:1187.22\n",
      "[640]\ttrain-mae:1092.76\teval-mae:1187.22\n",
      "[641]\ttrain-mae:1092.62\teval-mae:1187.21\n",
      "[642]\ttrain-mae:1092.49\teval-mae:1187.22\n",
      "[643]\ttrain-mae:1092.36\teval-mae:1187.18\n",
      "[644]\ttrain-mae:1092.21\teval-mae:1187.18\n",
      "[645]\ttrain-mae:1092.11\teval-mae:1187.18\n",
      "[646]\ttrain-mae:1091.98\teval-mae:1187.22\n",
      "[647]\ttrain-mae:1091.74\teval-mae:1187.12\n",
      "[648]\ttrain-mae:1091.72\teval-mae:1187.14\n",
      "[649]\ttrain-mae:1091.56\teval-mae:1187.13\n",
      "[650]\ttrain-mae:1091.52\teval-mae:1187.17\n",
      "[651]\ttrain-mae:1091.4\teval-mae:1187.11\n",
      "[652]\ttrain-mae:1091.27\teval-mae:1187.1\n",
      "[653]\ttrain-mae:1091.09\teval-mae:1187.1\n",
      "[654]\ttrain-mae:1090.89\teval-mae:1187.06\n",
      "[655]\ttrain-mae:1090.75\teval-mae:1187.09\n",
      "[656]\ttrain-mae:1090.66\teval-mae:1187.11\n",
      "[657]\ttrain-mae:1090.54\teval-mae:1187.12\n",
      "[658]\ttrain-mae:1090.42\teval-mae:1187.09\n",
      "[659]\ttrain-mae:1090.27\teval-mae:1187.04\n",
      "[660]\ttrain-mae:1090.19\teval-mae:1187.04\n",
      "[661]\ttrain-mae:1090.09\teval-mae:1187.07\n",
      "[662]\ttrain-mae:1089.99\teval-mae:1187.05\n",
      "[663]\ttrain-mae:1089.91\teval-mae:1187\n",
      "[664]\ttrain-mae:1089.81\teval-mae:1186.99\n",
      "[665]\ttrain-mae:1089.69\teval-mae:1186.98\n",
      "[666]\ttrain-mae:1089.6\teval-mae:1186.97\n",
      "[667]\ttrain-mae:1089.48\teval-mae:1186.98\n",
      "[668]\ttrain-mae:1089.25\teval-mae:1186.91\n",
      "[669]\ttrain-mae:1089.03\teval-mae:1186.79\n",
      "[670]\ttrain-mae:1088.97\teval-mae:1186.78\n",
      "[671]\ttrain-mae:1088.89\teval-mae:1186.78\n",
      "[672]\ttrain-mae:1088.77\teval-mae:1186.81\n",
      "[673]\ttrain-mae:1088.69\teval-mae:1186.82\n",
      "[674]\ttrain-mae:1088.54\teval-mae:1186.82\n",
      "[675]\ttrain-mae:1088.41\teval-mae:1186.8\n",
      "[676]\ttrain-mae:1088.26\teval-mae:1186.78\n",
      "[677]\ttrain-mae:1088.16\teval-mae:1186.82\n",
      "[678]\ttrain-mae:1088.13\teval-mae:1186.87\n",
      "[679]\ttrain-mae:1088.01\teval-mae:1186.87\n",
      "[680]\ttrain-mae:1087.83\teval-mae:1186.81\n",
      "[681]\ttrain-mae:1087.67\teval-mae:1186.82\n",
      "[682]\ttrain-mae:1087.59\teval-mae:1186.8\n",
      "[683]\ttrain-mae:1087.44\teval-mae:1186.74\n",
      "[684]\ttrain-mae:1087.28\teval-mae:1186.73\n",
      "[685]\ttrain-mae:1087.17\teval-mae:1186.68\n",
      "[686]\ttrain-mae:1087.03\teval-mae:1186.63\n",
      "[687]\ttrain-mae:1086.93\teval-mae:1186.63\n",
      "[688]\ttrain-mae:1086.83\teval-mae:1186.65\n",
      "[689]\ttrain-mae:1086.76\teval-mae:1186.66\n",
      "[690]\ttrain-mae:1086.54\teval-mae:1186.52\n",
      "[691]\ttrain-mae:1086.5\teval-mae:1186.54\n",
      "[692]\ttrain-mae:1086.36\teval-mae:1186.55\n",
      "[693]\ttrain-mae:1086.22\teval-mae:1186.58\n",
      "[694]\ttrain-mae:1086.08\teval-mae:1186.55\n",
      "[695]\ttrain-mae:1085.95\teval-mae:1186.52\n",
      "[696]\ttrain-mae:1085.87\teval-mae:1186.52\n",
      "[697]\ttrain-mae:1085.75\teval-mae:1186.5\n",
      "[698]\ttrain-mae:1085.62\teval-mae:1186.48\n",
      "[699]\ttrain-mae:1085.49\teval-mae:1186.49\n",
      "[700]\ttrain-mae:1085.35\teval-mae:1186.45\n",
      "[701]\ttrain-mae:1085.22\teval-mae:1186.48\n",
      "[702]\ttrain-mae:1085.07\teval-mae:1186.53\n",
      "[703]\ttrain-mae:1085\teval-mae:1186.54\n",
      "[704]\ttrain-mae:1084.79\teval-mae:1186.44\n",
      "[705]\ttrain-mae:1084.75\teval-mae:1186.41\n",
      "[706]\ttrain-mae:1084.64\teval-mae:1186.42\n",
      "[707]\ttrain-mae:1084.48\teval-mae:1186.44\n",
      "[708]\ttrain-mae:1084.33\teval-mae:1186.4\n",
      "[709]\ttrain-mae:1084.25\teval-mae:1186.41\n",
      "[710]\ttrain-mae:1084.14\teval-mae:1186.39\n",
      "[711]\ttrain-mae:1083.95\teval-mae:1186.3\n",
      "[712]\ttrain-mae:1083.86\teval-mae:1186.31\n",
      "[713]\ttrain-mae:1083.82\teval-mae:1186.32\n",
      "[714]\ttrain-mae:1083.69\teval-mae:1186.31\n",
      "[715]\ttrain-mae:1083.6\teval-mae:1186.27\n",
      "[716]\ttrain-mae:1083.53\teval-mae:1186.26\n",
      "[717]\ttrain-mae:1083.48\teval-mae:1186.3\n",
      "[718]\ttrain-mae:1083.36\teval-mae:1186.31\n",
      "[719]\ttrain-mae:1083.27\teval-mae:1186.29\n",
      "[720]\ttrain-mae:1083.13\teval-mae:1186.28\n",
      "[721]\ttrain-mae:1083.05\teval-mae:1186.25\n",
      "[722]\ttrain-mae:1083\teval-mae:1186.27\n",
      "[723]\ttrain-mae:1082.8\teval-mae:1186.2\n",
      "[724]\ttrain-mae:1082.7\teval-mae:1186.17\n",
      "[725]\ttrain-mae:1082.56\teval-mae:1186.14\n",
      "[726]\ttrain-mae:1082.48\teval-mae:1186.16\n",
      "[727]\ttrain-mae:1082.42\teval-mae:1186.15\n",
      "[728]\ttrain-mae:1082.26\teval-mae:1186.04\n",
      "[729]\ttrain-mae:1082.12\teval-mae:1186.05\n",
      "[730]\ttrain-mae:1082.05\teval-mae:1186.03\n",
      "[731]\ttrain-mae:1081.98\teval-mae:1186.05\n",
      "[732]\ttrain-mae:1081.89\teval-mae:1186.01\n",
      "[733]\ttrain-mae:1081.8\teval-mae:1186.05\n",
      "[734]\ttrain-mae:1081.68\teval-mae:1186.04\n",
      "[735]\ttrain-mae:1081.54\teval-mae:1185.98\n",
      "[736]\ttrain-mae:1081.41\teval-mae:1185.97\n",
      "[737]\ttrain-mae:1081.29\teval-mae:1185.94\n",
      "[738]\ttrain-mae:1081.2\teval-mae:1185.92\n",
      "[739]\ttrain-mae:1081.06\teval-mae:1185.94\n",
      "[740]\ttrain-mae:1081.01\teval-mae:1185.96\n",
      "[741]\ttrain-mae:1080.83\teval-mae:1185.94\n",
      "[742]\ttrain-mae:1080.74\teval-mae:1185.93\n",
      "[743]\ttrain-mae:1080.63\teval-mae:1185.93\n",
      "[744]\ttrain-mae:1080.55\teval-mae:1185.97\n",
      "[745]\ttrain-mae:1080.51\teval-mae:1185.98\n",
      "[746]\ttrain-mae:1080.33\teval-mae:1185.96\n",
      "[747]\ttrain-mae:1080.24\teval-mae:1185.96\n",
      "[748]\ttrain-mae:1080.13\teval-mae:1185.96\n",
      "[749]\ttrain-mae:1080.03\teval-mae:1185.96\n",
      "[750]\ttrain-mae:1079.89\teval-mae:1185.91\n",
      "[751]\ttrain-mae:1079.74\teval-mae:1185.89\n",
      "[752]\ttrain-mae:1079.7\teval-mae:1185.94\n",
      "[753]\ttrain-mae:1079.54\teval-mae:1185.93\n",
      "[754]\ttrain-mae:1079.47\teval-mae:1185.94\n",
      "[755]\ttrain-mae:1079.28\teval-mae:1185.91\n",
      "[756]\ttrain-mae:1079.24\teval-mae:1185.88\n",
      "[757]\ttrain-mae:1079.09\teval-mae:1185.92\n",
      "[758]\ttrain-mae:1078.95\teval-mae:1185.95\n",
      "[759]\ttrain-mae:1078.86\teval-mae:1185.92\n",
      "[760]\ttrain-mae:1078.73\teval-mae:1185.94\n",
      "[761]\ttrain-mae:1078.63\teval-mae:1185.99\n",
      "[762]\ttrain-mae:1078.52\teval-mae:1186.04\n",
      "[763]\ttrain-mae:1078.33\teval-mae:1186\n",
      "[764]\ttrain-mae:1078.19\teval-mae:1185.93\n",
      "[765]\ttrain-mae:1078.08\teval-mae:1185.93\n",
      "[766]\ttrain-mae:1077.95\teval-mae:1185.89\n",
      "[767]\ttrain-mae:1077.9\teval-mae:1185.94\n",
      "[768]\ttrain-mae:1077.85\teval-mae:1185.95\n",
      "[769]\ttrain-mae:1077.74\teval-mae:1185.94\n",
      "[770]\ttrain-mae:1077.57\teval-mae:1185.91\n",
      "[771]\ttrain-mae:1077.45\teval-mae:1185.93\n",
      "[772]\ttrain-mae:1077.35\teval-mae:1185.95\n",
      "[773]\ttrain-mae:1077.16\teval-mae:1185.89\n",
      "[774]\ttrain-mae:1077.05\teval-mae:1185.86\n",
      "[775]\ttrain-mae:1076.92\teval-mae:1185.82\n",
      "[776]\ttrain-mae:1076.85\teval-mae:1185.81\n",
      "[777]\ttrain-mae:1076.72\teval-mae:1185.81\n",
      "[778]\ttrain-mae:1076.65\teval-mae:1185.81\n",
      "[779]\ttrain-mae:1076.59\teval-mae:1185.81\n",
      "[780]\ttrain-mae:1076.52\teval-mae:1185.83\n",
      "[781]\ttrain-mae:1076.43\teval-mae:1185.85\n",
      "[782]\ttrain-mae:1076.39\teval-mae:1185.86\n",
      "[783]\ttrain-mae:1076.28\teval-mae:1185.82\n",
      "[784]\ttrain-mae:1076.19\teval-mae:1185.84\n",
      "[785]\ttrain-mae:1076.07\teval-mae:1185.81\n",
      "[786]\ttrain-mae:1075.97\teval-mae:1185.8\n",
      "[787]\ttrain-mae:1075.85\teval-mae:1185.77\n",
      "[788]\ttrain-mae:1075.75\teval-mae:1185.76\n",
      "[789]\ttrain-mae:1075.6\teval-mae:1185.76\n",
      "[790]\ttrain-mae:1075.55\teval-mae:1185.77\n",
      "[791]\ttrain-mae:1075.46\teval-mae:1185.82\n",
      "[792]\ttrain-mae:1075.4\teval-mae:1185.83\n",
      "[793]\ttrain-mae:1075.31\teval-mae:1185.77\n",
      "[794]\ttrain-mae:1075.21\teval-mae:1185.76\n",
      "[795]\ttrain-mae:1075.12\teval-mae:1185.77\n",
      "[796]\ttrain-mae:1075.05\teval-mae:1185.78\n",
      "[797]\ttrain-mae:1074.98\teval-mae:1185.72\n",
      "[798]\ttrain-mae:1074.84\teval-mae:1185.68\n",
      "[799]\ttrain-mae:1074.73\teval-mae:1185.64\n",
      "[800]\ttrain-mae:1074.6\teval-mae:1185.57\n",
      "[801]\ttrain-mae:1074.52\teval-mae:1185.53\n",
      "[802]\ttrain-mae:1074.41\teval-mae:1185.51\n",
      "[803]\ttrain-mae:1074.3\teval-mae:1185.47\n"
     ]
    },
    {
     "name": "stdout",
     "output_type": "stream",
     "text": [
      "[804]\ttrain-mae:1074.23\teval-mae:1185.47\n",
      "[805]\ttrain-mae:1074.12\teval-mae:1185.47\n",
      "[806]\ttrain-mae:1074.05\teval-mae:1185.52\n",
      "[807]\ttrain-mae:1073.96\teval-mae:1185.53\n",
      "[808]\ttrain-mae:1073.82\teval-mae:1185.51\n",
      "[809]\ttrain-mae:1073.75\teval-mae:1185.53\n",
      "[810]\ttrain-mae:1073.64\teval-mae:1185.56\n",
      "[811]\ttrain-mae:1073.49\teval-mae:1185.51\n",
      "[812]\ttrain-mae:1073.29\teval-mae:1185.43\n",
      "[813]\ttrain-mae:1073.2\teval-mae:1185.48\n",
      "[814]\ttrain-mae:1073.07\teval-mae:1185.49\n",
      "[815]\ttrain-mae:1072.85\teval-mae:1185.4\n",
      "[816]\ttrain-mae:1072.77\teval-mae:1185.36\n",
      "[817]\ttrain-mae:1072.68\teval-mae:1185.36\n",
      "[818]\ttrain-mae:1072.53\teval-mae:1185.4\n",
      "[819]\ttrain-mae:1072.42\teval-mae:1185.42\n",
      "[820]\ttrain-mae:1072.39\teval-mae:1185.45\n",
      "[821]\ttrain-mae:1072.3\teval-mae:1185.43\n",
      "[822]\ttrain-mae:1072.16\teval-mae:1185.43\n",
      "[823]\ttrain-mae:1072.12\teval-mae:1185.41\n",
      "[824]\ttrain-mae:1071.99\teval-mae:1185.4\n",
      "[825]\ttrain-mae:1071.88\teval-mae:1185.35\n",
      "[826]\ttrain-mae:1071.76\teval-mae:1185.31\n",
      "[827]\ttrain-mae:1071.71\teval-mae:1185.37\n",
      "[828]\ttrain-mae:1071.54\teval-mae:1185.32\n",
      "[829]\ttrain-mae:1071.45\teval-mae:1185.3\n",
      "[830]\ttrain-mae:1071.37\teval-mae:1185.33\n",
      "[831]\ttrain-mae:1071.25\teval-mae:1185.33\n",
      "[832]\ttrain-mae:1071.12\teval-mae:1185.37\n",
      "[833]\ttrain-mae:1071\teval-mae:1185.35\n",
      "[834]\ttrain-mae:1070.88\teval-mae:1185.34\n",
      "[835]\ttrain-mae:1070.76\teval-mae:1185.31\n",
      "[836]\ttrain-mae:1070.63\teval-mae:1185.34\n",
      "[837]\ttrain-mae:1070.53\teval-mae:1185.3\n",
      "[838]\ttrain-mae:1070.42\teval-mae:1185.28\n",
      "[839]\ttrain-mae:1070.35\teval-mae:1185.27\n",
      "[840]\ttrain-mae:1070.21\teval-mae:1185.28\n",
      "[841]\ttrain-mae:1070.09\teval-mae:1185.26\n",
      "[842]\ttrain-mae:1070.01\teval-mae:1185.27\n",
      "[843]\ttrain-mae:1069.9\teval-mae:1185.25\n",
      "[844]\ttrain-mae:1069.82\teval-mae:1185.22\n",
      "[845]\ttrain-mae:1069.77\teval-mae:1185.24\n",
      "[846]\ttrain-mae:1069.67\teval-mae:1185.23\n",
      "[847]\ttrain-mae:1069.55\teval-mae:1185.19\n",
      "[848]\ttrain-mae:1069.47\teval-mae:1185.19\n",
      "[849]\ttrain-mae:1069.37\teval-mae:1185.22\n",
      "[850]\ttrain-mae:1069.25\teval-mae:1185.2\n",
      "[851]\ttrain-mae:1069.15\teval-mae:1185.21\n",
      "[852]\ttrain-mae:1069.06\teval-mae:1185.22\n",
      "[853]\ttrain-mae:1068.96\teval-mae:1185.2\n",
      "[854]\ttrain-mae:1068.8\teval-mae:1185.15\n",
      "[855]\ttrain-mae:1068.7\teval-mae:1185.17\n",
      "[856]\ttrain-mae:1068.59\teval-mae:1185.16\n",
      "[857]\ttrain-mae:1068.42\teval-mae:1185.06\n",
      "[858]\ttrain-mae:1068.39\teval-mae:1185.07\n",
      "[859]\ttrain-mae:1068.28\teval-mae:1185.09\n",
      "[860]\ttrain-mae:1068.15\teval-mae:1185.05\n",
      "[861]\ttrain-mae:1068.09\teval-mae:1185.03\n",
      "[862]\ttrain-mae:1068.05\teval-mae:1185.05\n",
      "[863]\ttrain-mae:1067.91\teval-mae:1185.01\n",
      "[864]\ttrain-mae:1067.8\teval-mae:1185.04\n",
      "[865]\ttrain-mae:1067.67\teval-mae:1185.06\n",
      "[866]\ttrain-mae:1067.52\teval-mae:1185.08\n",
      "[867]\ttrain-mae:1067.46\teval-mae:1185.09\n",
      "[868]\ttrain-mae:1067.41\teval-mae:1185.08\n",
      "[869]\ttrain-mae:1067.28\teval-mae:1185.03\n",
      "[870]\ttrain-mae:1067.12\teval-mae:1185.03\n",
      "[871]\ttrain-mae:1067.03\teval-mae:1184.99\n",
      "[872]\ttrain-mae:1066.9\teval-mae:1184.96\n",
      "[873]\ttrain-mae:1066.82\teval-mae:1184.95\n",
      "[874]\ttrain-mae:1066.65\teval-mae:1184.94\n",
      "[875]\ttrain-mae:1066.6\teval-mae:1184.97\n",
      "[876]\ttrain-mae:1066.54\teval-mae:1184.99\n",
      "[877]\ttrain-mae:1066.51\teval-mae:1184.98\n",
      "[878]\ttrain-mae:1066.43\teval-mae:1184.99\n",
      "[879]\ttrain-mae:1066.24\teval-mae:1184.95\n",
      "[880]\ttrain-mae:1066.16\teval-mae:1184.95\n",
      "[881]\ttrain-mae:1066.05\teval-mae:1184.98\n",
      "[882]\ttrain-mae:1065.92\teval-mae:1184.97\n",
      "[883]\ttrain-mae:1065.75\teval-mae:1185\n",
      "[884]\ttrain-mae:1065.62\teval-mae:1184.99\n",
      "[885]\ttrain-mae:1065.62\teval-mae:1185.01\n",
      "[886]\ttrain-mae:1065.46\teval-mae:1184.97\n",
      "[887]\ttrain-mae:1065.28\teval-mae:1184.97\n",
      "[888]\ttrain-mae:1065.2\teval-mae:1184.96\n",
      "[889]\ttrain-mae:1065.07\teval-mae:1184.96\n",
      "[890]\ttrain-mae:1064.93\teval-mae:1184.95\n",
      "[891]\ttrain-mae:1064.86\teval-mae:1184.98\n",
      "[892]\ttrain-mae:1064.78\teval-mae:1184.95\n",
      "[893]\ttrain-mae:1064.7\teval-mae:1184.92\n",
      "[894]\ttrain-mae:1064.51\teval-mae:1184.88\n",
      "[895]\ttrain-mae:1064.38\teval-mae:1184.85\n",
      "[896]\ttrain-mae:1064.26\teval-mae:1184.87\n",
      "[897]\ttrain-mae:1064.11\teval-mae:1184.84\n",
      "[898]\ttrain-mae:1063.98\teval-mae:1184.87\n",
      "[899]\ttrain-mae:1063.91\teval-mae:1184.89\n",
      "[900]\ttrain-mae:1063.78\teval-mae:1184.88\n",
      "[901]\ttrain-mae:1063.63\teval-mae:1184.86\n",
      "[902]\ttrain-mae:1063.49\teval-mae:1184.86\n",
      "[903]\ttrain-mae:1063.34\teval-mae:1184.82\n",
      "[904]\ttrain-mae:1063.18\teval-mae:1184.8\n",
      "[905]\ttrain-mae:1063.11\teval-mae:1184.8\n",
      "[906]\ttrain-mae:1062.96\teval-mae:1184.79\n",
      "[907]\ttrain-mae:1062.79\teval-mae:1184.73\n",
      "[908]\ttrain-mae:1062.62\teval-mae:1184.68\n",
      "[909]\ttrain-mae:1062.47\teval-mae:1184.64\n",
      "[910]\ttrain-mae:1062.3\teval-mae:1184.61\n",
      "[911]\ttrain-mae:1062.22\teval-mae:1184.61\n",
      "[912]\ttrain-mae:1062.07\teval-mae:1184.62\n",
      "[913]\ttrain-mae:1062.01\teval-mae:1184.59\n",
      "[914]\ttrain-mae:1061.91\teval-mae:1184.58\n",
      "[915]\ttrain-mae:1061.87\teval-mae:1184.6\n",
      "[916]\ttrain-mae:1061.77\teval-mae:1184.62\n",
      "[917]\ttrain-mae:1061.73\teval-mae:1184.65\n",
      "[918]\ttrain-mae:1061.65\teval-mae:1184.61\n",
      "[919]\ttrain-mae:1061.53\teval-mae:1184.58\n",
      "[920]\ttrain-mae:1061.44\teval-mae:1184.55\n",
      "[921]\ttrain-mae:1061.35\teval-mae:1184.56\n",
      "[922]\ttrain-mae:1061.27\teval-mae:1184.57\n",
      "[923]\ttrain-mae:1061.17\teval-mae:1184.52\n",
      "[924]\ttrain-mae:1061.07\teval-mae:1184.52\n",
      "[925]\ttrain-mae:1061.02\teval-mae:1184.51\n",
      "[926]\ttrain-mae:1060.92\teval-mae:1184.51\n",
      "[927]\ttrain-mae:1060.83\teval-mae:1184.56\n",
      "[928]\ttrain-mae:1060.76\teval-mae:1184.59\n",
      "[929]\ttrain-mae:1060.59\teval-mae:1184.57\n",
      "[930]\ttrain-mae:1060.51\teval-mae:1184.58\n",
      "[931]\ttrain-mae:1060.39\teval-mae:1184.59\n",
      "[932]\ttrain-mae:1060.28\teval-mae:1184.58\n",
      "[933]\ttrain-mae:1060.14\teval-mae:1184.54\n",
      "[934]\ttrain-mae:1060.02\teval-mae:1184.57\n",
      "[935]\ttrain-mae:1059.89\teval-mae:1184.58\n",
      "[936]\ttrain-mae:1059.81\teval-mae:1184.57\n",
      "[937]\ttrain-mae:1059.72\teval-mae:1184.6\n",
      "[938]\ttrain-mae:1059.65\teval-mae:1184.58\n",
      "[939]\ttrain-mae:1059.5\teval-mae:1184.58\n",
      "[940]\ttrain-mae:1059.4\teval-mae:1184.56\n",
      "[941]\ttrain-mae:1059.26\teval-mae:1184.58\n",
      "[942]\ttrain-mae:1059.21\teval-mae:1184.6\n",
      "[943]\ttrain-mae:1059.06\teval-mae:1184.56\n",
      "[944]\ttrain-mae:1058.94\teval-mae:1184.54\n",
      "[945]\ttrain-mae:1058.78\teval-mae:1184.53\n",
      "[946]\ttrain-mae:1058.62\teval-mae:1184.42\n",
      "[947]\ttrain-mae:1058.58\teval-mae:1184.48\n",
      "[948]\ttrain-mae:1058.47\teval-mae:1184.5\n",
      "[949]\ttrain-mae:1058.39\teval-mae:1184.51\n",
      "[950]\ttrain-mae:1058.36\teval-mae:1184.53\n",
      "[951]\ttrain-mae:1058.33\teval-mae:1184.56\n",
      "[952]\ttrain-mae:1058.26\teval-mae:1184.56\n",
      "[953]\ttrain-mae:1058.18\teval-mae:1184.57\n",
      "[954]\ttrain-mae:1058.09\teval-mae:1184.51\n",
      "[955]\ttrain-mae:1057.98\teval-mae:1184.53\n",
      "[956]\ttrain-mae:1057.84\teval-mae:1184.51\n",
      "[957]\ttrain-mae:1057.72\teval-mae:1184.51\n",
      "[958]\ttrain-mae:1057.56\teval-mae:1184.46\n",
      "[959]\ttrain-mae:1057.45\teval-mae:1184.44\n",
      "[960]\ttrain-mae:1057.32\teval-mae:1184.44\n",
      "[961]\ttrain-mae:1057.23\teval-mae:1184.47\n",
      "[962]\ttrain-mae:1057.14\teval-mae:1184.46\n",
      "[963]\ttrain-mae:1057\teval-mae:1184.45\n",
      "[964]\ttrain-mae:1056.88\teval-mae:1184.44\n",
      "[965]\ttrain-mae:1056.79\teval-mae:1184.43\n",
      "[966]\ttrain-mae:1056.74\teval-mae:1184.45\n",
      "[967]\ttrain-mae:1056.67\teval-mae:1184.48\n",
      "[968]\ttrain-mae:1056.58\teval-mae:1184.44\n",
      "[969]\ttrain-mae:1056.48\teval-mae:1184.47\n",
      "[970]\ttrain-mae:1056.36\teval-mae:1184.46\n",
      "[971]\ttrain-mae:1056.22\teval-mae:1184.49\n",
      "Stopping. Best iteration:\n",
      "[946]\ttrain-mae:1058.62\teval-mae:1184.42\n",
      "\n"
     ]
    }
   ],
   "source": [
    "param = {'max_depth': 6, 'eta': 0.0404096, 'silent': 1, 'objective': 'reg:linear'}\n",
    "param['nthread'] = 8\n",
    "param['eval_metric'] = 'mae'\n",
    "param['nfold'] = 4\n",
    "\n",
    "param['booster'] = 'gbtree'\n",
    "\n",
    "param['subsample']=0.70\n",
    "param['print_every_n']=10\n",
    "\n",
    "\n",
    "evallist = [ (dtrain, 'train'),(dval, 'eval')]\n",
    "num_round = 1000000\n",
    "bst = xgb.train(param, dtrain, num_round, evallist,early_stopping_rounds = 25)\n"
   ]
  },
  {
   "cell_type": "code",
   "execution_count": 54,
   "metadata": {},
   "outputs": [],
   "source": [
    "ypred = bst.predict(dval)"
   ]
  },
  {
   "cell_type": "code",
   "execution_count": 56,
   "metadata": {},
   "outputs": [
    {
     "data": {
      "text/plain": [
       "array([ 2836.14770508,  2206.01074219,  3234.08325195, ...,  2602.73095703,\n",
       "        1269.03979492,  1486.34899902], dtype=float32)"
      ]
     },
     "execution_count": 56,
     "metadata": {},
     "output_type": "execute_result"
    }
   ],
   "source": [
    "ypred"
   ]
  },
  {
   "cell_type": "code",
   "execution_count": 57,
   "metadata": {},
   "outputs": [
    {
     "data": {
      "text/plain": [
       "<matplotlib.collections.PathCollection at 0x7f8e68e6c400>"
      ]
     },
     "execution_count": 57,
     "metadata": {},
     "output_type": "execute_result"
    },
    {
     "data": {
      "image/png": "[encoded data removed]",
      "text/plain": [
       "<matplotlib.figure.Figure at 0x7f8e696c29b0>"
      ]
     },
     "metadata": {},
     "output_type": "display_data"
    }
   ],
   "source": [
    "plt.scatter(pred_lgb_val,ypred,c=\"g\")"
   ]
  },
  {
   "cell_type": "code",
   "execution_count": 58,
   "metadata": {},
   "outputs": [
    {
     "data": {
      "text/plain": [
       "<matplotlib.collections.PathCollection at 0x7f8e68dc57b8>"
      ]
     },
     "execution_count": 58,
     "metadata": {},
     "output_type": "execute_result"
    },
    {
     "data": {
      "image/png": "[encoded data removed]",
      "text/plain": [
       "<matplotlib.figure.Figure at 0x7f8e68e0a9e8>"
      ]
     },
     "metadata": {},
     "output_type": "display_data"
    }
   ],
   "source": [
    "plt.scatter(pred_lr,ypred,c=\"g\")"
   ]
  },
  {
   "cell_type": "markdown",
   "metadata": {},
   "source": [
    "quite interesting , time to use stacking to make our prediction better."
   ]
  },
  {
   "cell_type": "code",
   "execution_count": null,
   "metadata": {},
   "outputs": [],
   "source": []
  },
  {
   "cell_type": "code",
   "execution_count": null,
   "metadata": {},
   "outputs": [],
   "source": []
  },
  {
   "cell_type": "code",
   "execution_count": null,
   "metadata": {},
   "outputs": [],
   "source": []
  },
  {
   "cell_type": "code",
   "execution_count": null,
   "metadata": {},
   "outputs": [],
   "source": []
  },
  {
   "cell_type": "code",
   "execution_count": null,
   "metadata": {},
   "outputs": [],
   "source": []
  },
  {
   "cell_type": "code",
   "execution_count": null,
   "metadata": {},
   "outputs": [],
   "source": []
  },
  {
   "cell_type": "code",
   "execution_count": null,
   "metadata": {},
   "outputs": [],
   "source": []
  },
  {
   "cell_type": "code",
   "execution_count": null,
   "metadata": {},
   "outputs": [],
   "source": []
  },
  {
   "cell_type": "code",
   "execution_count": null,
   "metadata": {},
   "outputs": [],
   "source": []
  },
  {
   "cell_type": "code",
   "execution_count": null,
   "metadata": {},
   "outputs": [],
   "source": []
  },
  {
   "cell_type": "code",
   "execution_count": null,
   "metadata": {},
   "outputs": [],
   "source": []
  },
  {
   "cell_type": "code",
   "execution_count": null,
   "metadata": {},
   "outputs": [],
   "source": []
  },
  {
   "cell_type": "code",
   "execution_count": null,
   "metadata": {},
   "outputs": [],
   "source": []
  },
  {
   "cell_type": "code",
   "execution_count": null,
   "metadata": {},
   "outputs": [],
   "source": []
  },
  {
   "cell_type": "code",
   "execution_count": null,
   "metadata": {},
   "outputs": [],
   "source": []
  },
  {
   "cell_type": "code",
   "execution_count": null,
   "metadata": {},
   "outputs": [],
   "source": []
  },
  {
   "cell_type": "code",
   "execution_count": null,
   "metadata": {},
   "outputs": [],
   "source": []
  },
  {
   "cell_type": "code",
   "execution_count": null,
   "metadata": {},
   "outputs": [],
   "source": []
  },
  {
   "cell_type": "code",
   "execution_count": null,
   "metadata": {},
   "outputs": [],
   "source": []
  }
 ],
 "metadata": {
  "kernelspec": {
   "display_name": "Python 3",
   "language": "python",
   "name": "python3"
  },
  "language_info": {
   "codemirror_mode": {
    "name": "ipython",
    "version": 3
   },
   "file_extension": ".py",
   "mimetype": "text/x-python",
   "name": "python",
   "nbconvert_exporter": "python",
   "pygments_lexer": "ipython3",
   "version": "3.5.2"
  }
 },
 "nbformat": 4,
 "nbformat_minor": 2
}
